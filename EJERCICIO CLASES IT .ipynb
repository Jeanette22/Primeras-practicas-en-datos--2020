{
 "cells": [
  {
   "cell_type": "markdown",
   "id": "170e1098",
   "metadata": {},
   "source": [
    "# EJERCICIO 1"
   ]
  },
  {
   "cell_type": "code",
   "execution_count": 26,
   "id": "04ce5ddf",
   "metadata": {},
   "outputs": [
    {
     "name": "stdout",
     "output_type": "stream",
     "text": [
      "ABCEDFGRSTUVW Algo mas 123556\n"
     ]
    }
   ],
   "source": [
    "A=\"ABCEDFG\"\n",
    "B=\"123456\"\n",
    "C=\"RSTUVW\"\n",
    "\n",
    "F=A+C\n",
    "Nro = 45\n",
    "Nro2 = 55\n",
    "Resultado = Nro + Nro2 + int(B)\n",
    "print (F+\" Algo mas \"+str(Resultado))\n",
    "\n"
   ]
  },
  {
   "cell_type": "code",
   "execution_count": 27,
   "id": "969e374c",
   "metadata": {},
   "outputs": [
    {
     "data": {
      "text/plain": [
       "100"
      ]
     },
     "execution_count": 27,
     "metadata": {},
     "output_type": "execute_result"
    }
   ],
   "source": [
    "Nro + Nro2"
   ]
  },
  {
   "cell_type": "markdown",
   "id": "7f9b9132",
   "metadata": {},
   "source": [
    "# EJERCICIO 2\n"
   ]
  },
  {
   "cell_type": "code",
   "execution_count": 29,
   "id": "567c76f2",
   "metadata": {},
   "outputs": [],
   "source": [
    "def funcionSuma(parametro1, parametro2):\n",
    "\n",
    "    return parametro1+parametro2\n",
    "\n",
    "\n",
    "\n"
   ]
  },
  {
   "cell_type": "code",
   "execution_count": 30,
   "id": "899912c1",
   "metadata": {},
   "outputs": [],
   "source": [
    "a=\"ABCEDFG\"\n",
    "b=\"123456\"\n",
    "\n"
   ]
  },
  {
   "cell_type": "code",
   "execution_count": 31,
   "id": "e2546a83",
   "metadata": {},
   "outputs": [
    {
     "name": "stdout",
     "output_type": "stream",
     "text": [
      "ABCEDFG123456 Algo mas 20\n"
     ]
    }
   ],
   "source": [
    "F=a+b\n",
    "suma = funcionSuma(12,8)\n",
    "print (F+\" Algo mas \"+str(suma))"
   ]
  },
  {
   "cell_type": "code",
   "execution_count": null,
   "id": "ad554688",
   "metadata": {},
   "outputs": [],
   "source": []
  },
  {
   "cell_type": "code",
   "execution_count": null,
   "id": "5b89e4d0",
   "metadata": {},
   "outputs": [],
   "source": []
  },
  {
   "cell_type": "markdown",
   "id": "566801d6",
   "metadata": {},
   "source": [
    "# EJERCICIO 3"
   ]
  },
  {
   "cell_type": "code",
   "execution_count": 16,
   "id": "171799e4",
   "metadata": {},
   "outputs": [
    {
     "name": "stdout",
     "output_type": "stream",
     "text": [
      " El resultado es: 15\n"
     ]
    }
   ],
   "source": [
    "def cubo(n):\n",
    "    return n*n*n\n",
    "\n",
    "\n",
    "\n",
    "\n",
    "def multiplicar5(n):\n",
    "    m = 0\n",
    "    m = m + n\n",
    "    m = m + n\n",
    "    m = m + n\n",
    "    m = m + n\n",
    "    m = m + n\n",
    "    return m\n",
    "\n",
    "def multi5(n):\n",
    "    return n*5\n",
    "\n",
    "\n",
    "multiplica = multiplicar5(5)\n",
    "\n",
    "resultado = multi5(3)\n",
    "\n",
    "\n",
    "print (\" El resultado es: \"+str(resultado))\n"
   ]
  },
  {
   "cell_type": "code",
   "execution_count": null,
   "id": "3e14d7fa",
   "metadata": {},
   "outputs": [],
   "source": []
  },
  {
   "cell_type": "markdown",
   "id": "4cc0014f",
   "metadata": {},
   "source": [
    "# GRAFICO 4"
   ]
  },
  {
   "cell_type": "code",
   "execution_count": 18,
   "id": "a7b79265",
   "metadata": {},
   "outputs": [
    {
     "name": "stdout",
     "output_type": "stream",
     "text": [
      "Ingresá un numero para calcular:3\n",
      "Se ingresó un valor menor a 10\n",
      " El resultado es: 3375\n"
     ]
    }
   ],
   "source": [
    "def cubo(n):\n",
    "    return n*n*n\n",
    "\n",
    "\n",
    "\n",
    "def multiplicar5(n):\n",
    "    m = 0\n",
    "    m = m + n\n",
    "    m = m + n\n",
    "    m = m + n\n",
    "    m = m + n\n",
    "    m = m + n\n",
    "    return m\n",
    "\n",
    "def multi5(n):\n",
    "    return n*5\n",
    "\n",
    "\n",
    "MiNumero = int(input(\"Ingresá un numero para calcular:\"))\n",
    "\n",
    "\n",
    "if MiNumero<=10:\n",
    "    print(\"Se ingresó un valor menor a 10\")\n",
    "\n",
    "multiplica = multiplicar5(MiNumero)\n",
    "\n",
    "resultado = cubo(multiplica)\n",
    "\n",
    "\n",
    "print (\" El resultado es: \"+str(resultado))\n"
   ]
  },
  {
   "cell_type": "code",
   "execution_count": null,
   "id": "e67c3585",
   "metadata": {},
   "outputs": [],
   "source": []
  },
  {
   "cell_type": "markdown",
   "id": "0c0a3145",
   "metadata": {},
   "source": [
    "# GRAFICO 5"
   ]
  },
  {
   "cell_type": "code",
   "execution_count": 25,
   "id": "11ce6a54",
   "metadata": {},
   "outputs": [
    {
     "name": "stdout",
     "output_type": "stream",
     "text": [
      "Ingrese valor a evaluar:4\n",
      " El resultado es: 4\n"
     ]
    }
   ],
   "source": [
    "def multiplo3(n):\n",
    "    sale = False                 # Supongo que el valor de n no va a ser multiplo de 3 por lo tanto sale = FALSO\n",
    "    resultado = n%3              #Se calcula el \"modulo\" o resto de el Nro % 3\n",
    "    if resultado == 0:           # Si el resultado del resto<- es igual a 0 es por que realmente es multiplo de 3 \n",
    "        sale = True              #Entonces   sale = VERDAD\n",
    "    return sale\n",
    "        \n",
    "def multiplo5(n):\n",
    "    sale = False                 # Supongo que el valor de n no va a ser multiplo de 3 por lo tanto sale = FALSO\n",
    "    resultado = n%5              #Se calcula el \"modulo\" o resto de el Nro % 3\n",
    "    if resultado == 0:           # Si el resultado del resto<- es igual a 0 es por que realmente es multiplo de 3 \n",
    "        sale = True              #Entonces   sale = VERDAD\n",
    "    return sale\n",
    "\n",
    "\n",
    "def obtener_fizzbuzz(n): \n",
    "\n",
    "     salida = n\n",
    "       \n",
    "     if multiplo5(n):\n",
    "         salida=\"Fizz\"\n",
    " \n",
    "     if multiplo3(n):\n",
    "         salida=\"Buzz\"\n",
    "     \n",
    "     if multiplo5(n) and multiplo3(n):\n",
    "         salida=\"FizzBuzz\"\n",
    "     \n",
    "\n",
    "     return(salida)\n",
    "    \n",
    "valor = int(input(\"Ingrese valor a evaluar:\"))\n",
    "\n",
    "resultado = obtener_fizzbuzz(valor)         \n",
    "\n",
    "\n",
    "#if resultado<=10:\n",
    "#    print(\"Se ingresó un valor menor a 10\")\n",
    "\n",
    "\n",
    "print (\" El resultado es: \"+str(resultado))\n"
   ]
  },
  {
   "cell_type": "code",
   "execution_count": null,
   "id": "1f89838b",
   "metadata": {},
   "outputs": [],
   "source": []
  },
  {
   "cell_type": "markdown",
   "id": "921b8d9f",
   "metadata": {},
   "source": [
    "# GRAFICO 7"
   ]
  },
  {
   "cell_type": "code",
   "execution_count": 24,
   "id": "101e8c8f",
   "metadata": {},
   "outputs": [
    {
     "name": "stdout",
     "output_type": "stream",
     "text": [
      "Ingrese valor a evaluar:578888\n",
      "578888\n"
     ]
    }
   ],
   "source": [
    "def obtener_fizzbuzz(n):\n",
    "    if n % 3 == 0 and n % 5 == 0:\n",
    "        return 'FizzBuzz'\n",
    "    if n % 3 == 0:\n",
    "        return 'Fizz'\n",
    "    if n % 5 == 0:\n",
    "        return 'Buzz'\n",
    "    return n\n",
    "\n",
    "\n",
    "    \n",
    "valor = int(input(\"Ingrese valor a evaluar:\"))\n",
    "\n",
    "resultado = obtener_fizzbuzz(valor)    \n",
    "\n",
    "print(resultado)\n"
   ]
  },
  {
   "cell_type": "code",
   "execution_count": 6,
   "id": "72f4bb03",
   "metadata": {},
   "outputs": [],
   "source": []
  },
  {
   "cell_type": "code",
   "execution_count": null,
   "id": "c19e72ad",
   "metadata": {},
   "outputs": [],
   "source": []
  }
 ],
 "metadata": {
  "kernelspec": {
   "display_name": "Python 3",
   "language": "python",
   "name": "python3"
  },
  "language_info": {
   "codemirror_mode": {
    "name": "ipython",
    "version": 3
   },
   "file_extension": ".py",
   "mimetype": "text/x-python",
   "name": "python",
   "nbconvert_exporter": "python",
   "pygments_lexer": "ipython3",
   "version": "3.8.8"
  }
 },
 "nbformat": 4,
 "nbformat_minor": 5
}
