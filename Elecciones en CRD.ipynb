{
 "cells": [
  {
   "cell_type": "code",
   "execution_count": 122,
   "id": "c1c5ffc5",
   "metadata": {},
   "outputs": [],
   "source": [
    "import pandas as pd \n",
    "import numpy as np\n",
    "import matplotlib.pyplot as plt \n",
    "import seaborn as sns\n",
    "\n",
    "#Los datos hab sido extraídos en: https://datos.vivamoscomodoro.gob.ar/\n",
    "#fuente principal: tribunal electoral "
   ]
  },
  {
   "cell_type": "markdown",
   "id": "dc4cd203",
   "metadata": {},
   "source": [
    "Objetivo: A partir de los datos abiertos que ofrecen en la ciudad de Comodoro Rivadavia, trabajar en en analisis de estos datos, haciendo limpieza si fuese necesario, para dar a conocer mediante la viusalizacion de datos los diferentes porcentaje de las elecciones de direntes años, los partido politicos, y los que aún persisten y lideran en la ciudad. "
   ]
  },
  {
   "cell_type": "code",
   "execution_count": 2,
   "id": "52c8ef5e",
   "metadata": {},
   "outputs": [],
   "source": [
    "datos1 = pd.read_csv (\"https://datos.vivamoscomodoro.gob.ar/base/datasets/scuyo/dit/elecciones-2019.csv\")\n"
   ]
  },
  {
   "cell_type": "markdown",
   "id": "6d099ac4",
   "metadata": {},
   "source": [
    "# Elecciones 2019"
   ]
  },
  {
   "cell_type": "code",
   "execution_count": 3,
   "id": "4772513b",
   "metadata": {},
   "outputs": [],
   "source": [
    "Gráfico: \"Elecciones Generales 2019: Cat.: Intendente, Concejales y Tribunal de Cuentas Comodoro Rivadavia- Chubut\"\n"
   ]
  },
  {
   "cell_type": "code",
   "execution_count": 6,
   "id": "fa90e6d8",
   "metadata": {},
   "outputs": [],
   "source": [
    "gen_cnt = grafico1['Trib.de Cuentas (Votos)'].value_counts()"
   ]
  },
  {
   "cell_type": "code",
   "execution_count": 7,
   "id": "8abda0c8",
   "metadata": {},
   "outputs": [
    {
     "data": {
      "text/plain": [
       "Text(30, 0, ' 56.436')"
      ]
     },
     "execution_count": 7,
     "metadata": {},
     "output_type": "execute_result"
    },
    {
     "data": {
      "image/png": "[encoded data removed]",
      "text/plain": [
       "<Figure size 720x432 with 1 Axes>"
      ]
     },
     "metadata": {
      "needs_background": "light"
     },
     "output_type": "display_data"
    }
   ],
   "source": [
    "info =[('Anulados',1921), ('Votos en blanco',14428), ('Alianza Chubut al Frente',3098), ('Movimiento Polo Social',5182), ('Partido Independiente Del Chubut', 2212), ('Alianza Juntos por el Cambio', 31694), ('Alianza Frente de Todos', 56216)]\n",
    "data = []\n",
    "for v, c in info:\n",
    "  data.extend([v]*c)\n",
    "\n",
    "grafico1 = pd.DataFrame(data, columns=[\"Trib.de Cuentas (Votos)\"])\n",
    "\n",
    "ordered = sorted(gen_cnt.items(), key=lambda x: x[1], reverse=True)\n",
    "order = [ valor for valor, contador in ordered ]\n",
    "gen_cnt = grafico1['Trib.de Cuentas (Votos)'].value_counts()\n",
    "\n",
    "\n",
    "plt.figure (figsize=(10,6))\n",
    "\n",
    "plt.title ('Elecciones Generales 2019: Cat.: Intendente, Concejales y Tribunal de Cuentas Com. Riv')\n",
    "sns.countplot(data=grafico1, y='Trib.de Cuentas (Votos)', color=\"limegreen\", order=order)\n",
    "grafico1 = gen_cnt.values.sum()\n",
    "for i, (valor, contador) in enumerate(ordered):\n",
    "   pcnt = '{:0.1f}%'.format(100*contador/grafico1)\n",
    "   plt.text(contador-100, i, pcnt, va ='center')\n",
    "plt.text(30,0,\" 56.436\",fontsize= 9,  color= \"black\")"
   ]
  },
  {
   "cell_type": "markdown",
   "id": "fa41015e",
   "metadata": {},
   "source": [
    "# Elecciones 2015 CRD"
   ]
  },
  {
   "cell_type": "code",
   "execution_count": 78,
   "id": "1a677264",
   "metadata": {},
   "outputs": [],
   "source": [
    "datos7 = pd.read_csv (\"https://datos.vivamoscomodoro.gob.ar/base/datasets/scuyo/dit/elecciones-2015.csv\")"
   ]
  },
  {
   "cell_type": "code",
   "execution_count": 79,
   "id": "358eb4a1",
   "metadata": {
    "scrolled": false
   },
   "outputs": [
    {
     "data": {
      "text/html": [
       "<div>\n",
       "<style scoped>\n",
       "    .dataframe tbody tr th:only-of-type {\n",
       "        vertical-align: middle;\n",
       "    }\n",
       "\n",
       "    .dataframe tbody tr th {\n",
       "        vertical-align: top;\n",
       "    }\n",
       "\n",
       "    .dataframe thead th {\n",
       "        text-align: right;\n",
       "    }\n",
       "</style>\n",
       "<table border=\"1\" class=\"dataframe\">\n",
       "  <thead>\n",
       "    <tr style=\"text-align: right;\">\n",
       "      <th></th>\n",
       "      <th>Número</th>\n",
       "      <th>Partido Político</th>\n",
       "      <th>Intendente (Votos)</th>\n",
       "      <th>Intendente (%)</th>\n",
       "      <th>Concejales (Votos)</th>\n",
       "      <th>Concejales (%)</th>\n",
       "      <th>Trib. de Cuentas (Votos)</th>\n",
       "      <th>Trib. de Cuentas (%)</th>\n",
       "    </tr>\n",
       "  </thead>\n",
       "  <tbody>\n",
       "    <tr>\n",
       "      <th>0</th>\n",
       "      <td>-</td>\n",
       "      <td>Frente Para La Victoria</td>\n",
       "      <td>41.438</td>\n",
       "      <td>37.56%</td>\n",
       "      <td>40.452</td>\n",
       "      <td>36.67%</td>\n",
       "      <td>40.363</td>\n",
       "      <td>36.59%</td>\n",
       "    </tr>\n",
       "    <tr>\n",
       "      <th>1</th>\n",
       "      <td>-</td>\n",
       "      <td>Fte.Union Chubut Somos Todos</td>\n",
       "      <td>13.598</td>\n",
       "      <td>12.33%</td>\n",
       "      <td>13.125</td>\n",
       "      <td>11.9%</td>\n",
       "      <td>13.071</td>\n",
       "      <td>11.85%</td>\n",
       "    </tr>\n",
       "    <tr>\n",
       "      <th>2</th>\n",
       "      <td>-</td>\n",
       "      <td>Cambiemos Chubut</td>\n",
       "      <td>19.963</td>\n",
       "      <td>18.1%</td>\n",
       "      <td>19.371</td>\n",
       "      <td>17.56%</td>\n",
       "      <td>19.220</td>\n",
       "      <td>17.42%</td>\n",
       "    </tr>\n",
       "    <tr>\n",
       "      <th>3</th>\n",
       "      <td>-</td>\n",
       "      <td>Progresitas - Polo Social La 3 Pos.</td>\n",
       "      <td>4.568</td>\n",
       "      <td>4.14%</td>\n",
       "      <td>4.369</td>\n",
       "      <td>3.96%</td>\n",
       "      <td>4.371</td>\n",
       "      <td>3.96%</td>\n",
       "    </tr>\n",
       "    <tr>\n",
       "      <th>4</th>\n",
       "      <td>-</td>\n",
       "      <td>Fuerza Comodorense</td>\n",
       "      <td>3.510</td>\n",
       "      <td>3.18%</td>\n",
       "      <td>3.405</td>\n",
       "      <td>3.09%</td>\n",
       "      <td>3.410</td>\n",
       "      <td>3.09%</td>\n",
       "    </tr>\n",
       "    <tr>\n",
       "      <th>5</th>\n",
       "      <td>-</td>\n",
       "      <td>Votos en blanco</td>\n",
       "      <td>25.812</td>\n",
       "      <td>23.4%</td>\n",
       "      <td>28.192</td>\n",
       "      <td>25.56%</td>\n",
       "      <td>28.469</td>\n",
       "      <td>25.81%</td>\n",
       "    </tr>\n",
       "    <tr>\n",
       "      <th>6</th>\n",
       "      <td>-</td>\n",
       "      <td>Votos anulados</td>\n",
       "      <td>1.429</td>\n",
       "      <td>1.3%</td>\n",
       "      <td>1.404</td>\n",
       "      <td>1.27%</td>\n",
       "      <td>1.414</td>\n",
       "      <td>1.28%</td>\n",
       "    </tr>\n",
       "  </tbody>\n",
       "</table>\n",
       "</div>"
      ],
      "text/plain": [
       "  Número                     Partido Político  Intendente (Votos)  \\\n",
       "0      -              Frente Para La Victoria              41.438   \n",
       "1      -         Fte.Union Chubut Somos Todos              13.598   \n",
       "2      -                     Cambiemos Chubut              19.963   \n",
       "3      -  Progresitas - Polo Social La 3 Pos.               4.568   \n",
       "4      -                   Fuerza Comodorense               3.510   \n",
       "5      -                      Votos en blanco              25.812   \n",
       "6      -                       Votos anulados               1.429   \n",
       "\n",
       "  Intendente (%)  Concejales (Votos) Concejales (%)  Trib. de Cuentas (Votos)  \\\n",
       "0         37.56%              40.452         36.67%                    40.363   \n",
       "1         12.33%              13.125          11.9%                    13.071   \n",
       "2          18.1%              19.371         17.56%                    19.220   \n",
       "3          4.14%               4.369          3.96%                     4.371   \n",
       "4          3.18%               3.405          3.09%                     3.410   \n",
       "5          23.4%              28.192         25.56%                    28.469   \n",
       "6           1.3%               1.404          1.27%                     1.414   \n",
       "\n",
       "  Trib. de Cuentas (%)  \n",
       "0               36.59%  \n",
       "1               11.85%  \n",
       "2               17.42%  \n",
       "3                3.96%  \n",
       "4                3.09%  \n",
       "5               25.81%  \n",
       "6                1.28%  "
      ]
     },
     "execution_count": 79,
     "metadata": {},
     "output_type": "execute_result"
    }
   ],
   "source": [
    "datos7.head(10)\n"
   ]
  },
  {
   "cell_type": "code",
   "execution_count": 86,
   "id": "ee622d9c",
   "metadata": {},
   "outputs": [
    {
     "ename": "IndexError",
     "evalue": "invalid index to scalar variable.",
     "output_type": "error",
     "traceback": [
      "\u001b[1;31m---------------------------------------------------------------------------\u001b[0m",
      "\u001b[1;31mIndexError\u001b[0m                                Traceback (most recent call last)",
      "\u001b[1;32m<ipython-input-86-96dd50667f47>\u001b[0m in \u001b[0;36m<module>\u001b[1;34m\u001b[0m\n\u001b[1;32m----> 1\u001b[1;33m \u001b[0mgen_cnt\u001b[0m \u001b[1;33m=\u001b[0m \u001b[0mgrafico7\u001b[0m\u001b[1;33m[\u001b[0m\u001b[1;34m'Trib.de Cuentas (Votos)'\u001b[0m\u001b[1;33m]\u001b[0m\u001b[1;33m.\u001b[0m\u001b[0mvalue_counts\u001b[0m\u001b[1;33m(\u001b[0m\u001b[1;33m)\u001b[0m\u001b[1;33m\u001b[0m\u001b[1;33m\u001b[0m\u001b[0m\n\u001b[0m",
      "\u001b[1;31mIndexError\u001b[0m: invalid index to scalar variable."
     ]
    }
   ],
   "source": [
    "gen_cnt = grafico7['Trib.de Cuentas (Votos)'].value_counts()"
   ]
  },
  {
   "cell_type": "code",
   "execution_count": 85,
   "id": "fc17e5e7",
   "metadata": {},
   "outputs": [
    {
     "data": {
      "text/plain": [
       "Text(30, 0, ' 40.363')"
      ]
     },
     "execution_count": 85,
     "metadata": {},
     "output_type": "execute_result"
    },
    {
     "data": {
      "image/png": "[encoded data removed]",
      "text/plain": [
       "<Figure size 1080x432 with 1 Axes>"
      ]
     },
     "metadata": {
      "needs_background": "light"
     },
     "output_type": "display_data"
    }
   ],
   "source": [
    "info = [('Votos Anulados',1414), ('Votos en blanco',28469), ('Fuerza Comodorense', 3410), ('Progresistas- Polo Social la 3 Pos',4371), ('Cambiemos Chubut', 19220), ('Fte. Union Chubut Somos Todos', 13071), ('Frente Para la Victoria', 40363)]\n",
    "data = []\n",
    "for v, c in info:\n",
    "  data.extend([v]*c)\n",
    "\n",
    "grafico7 = pd.DataFrame(data, columns=[\"Trib.de Cuentas (Votos)\"])\n",
    "\n",
    "ordered = sorted(gen_cnt.items(), key=lambda x: x[1], reverse=True)\n",
    "order = [ valor for valor, contador in ordered ]\n",
    "gen_cnt = grafico7['Trib.de Cuentas (Votos)'].value_counts()\n",
    "\n",
    "\n",
    "plt.figure (figsize=(15,6))\n",
    "\n",
    "plt.title ('Elecciones Generales 2015 Com. Riv')\n",
    "sns.countplot(data=grafico7, y='Trib.de Cuentas (Votos)', color=\"limegreen\", order=order)\n",
    "grafico7 = gen_cnt.values.sum()\n",
    "for i, (valor, contador) in enumerate(ordered):\n",
    "   pcnt = '{:0.1f}%'.format(100*contador/grafico7)\n",
    "   plt.text(contador-100, i, pcnt, va ='center')\n",
    "plt.text(30,0,\" 40.363\",fontsize= 9,  color= \"black\")"
   ]
  },
  {
   "cell_type": "markdown",
   "id": "3f17c36c",
   "metadata": {},
   "source": [
    "# Elecciones 2011 CRD"
   ]
  },
  {
   "cell_type": "code",
   "execution_count": 95,
   "id": "86532d68",
   "metadata": {},
   "outputs": [],
   "source": [
    "datos6 = pd.read_csv (\"https://datos.vivamoscomodoro.gob.ar/base/datasets/scuyo/dit/elecciones-2011.csv\")"
   ]
  },
  {
   "cell_type": "code",
   "execution_count": 96,
   "id": "9012b2ca",
   "metadata": {},
   "outputs": [
    {
     "data": {
      "text/html": [
       "<div>\n",
       "<style scoped>\n",
       "    .dataframe tbody tr th:only-of-type {\n",
       "        vertical-align: middle;\n",
       "    }\n",
       "\n",
       "    .dataframe tbody tr th {\n",
       "        vertical-align: top;\n",
       "    }\n",
       "\n",
       "    .dataframe thead th {\n",
       "        text-align: right;\n",
       "    }\n",
       "</style>\n",
       "<table border=\"1\" class=\"dataframe\">\n",
       "  <thead>\n",
       "    <tr style=\"text-align: right;\">\n",
       "      <th></th>\n",
       "      <th>Número\\tPartido Político\\tIntendente (Votos)\\tIntendente (%)\\tConcejales (Votos)\\tConcejales (%)\\tTrib. de Cuentas (Votos)\\tTrib. de Cuentas (%)</th>\n",
       "    </tr>\n",
       "  </thead>\n",
       "  <tbody>\n",
       "    <tr>\n",
       "      <th>0</th>\n",
       "      <td>2\\tPartido Justicialista\\t25.723\\t29.7\\t24.940...</td>\n",
       "    </tr>\n",
       "    <tr>\n",
       "      <th>1</th>\n",
       "      <td>3\\tUnión Cívica Radical\\t12.131\\t14.01\\t12.100...</td>\n",
       "    </tr>\n",
       "    <tr>\n",
       "      <th>2</th>\n",
       "      <td>38\\tMov. Soc. De Los Trabajadores\\t3.291\\t3.8\\...</td>\n",
       "    </tr>\n",
       "    <tr>\n",
       "      <th>3</th>\n",
       "      <td>47\\tCoalición Cívica ARI\\t929\\t1.07\\t982\\t1.13...</td>\n",
       "    </tr>\n",
       "    <tr>\n",
       "      <th>4</th>\n",
       "      <td>151\\tPartido Ind. Del Chubut (PICH)\\t757\\t0.87...</td>\n",
       "    </tr>\n",
       "    <tr>\n",
       "      <th>5</th>\n",
       "      <td>157\\tPartido Acción Chubutense (PACH)\\t782\\t0....</td>\n",
       "    </tr>\n",
       "    <tr>\n",
       "      <th>6</th>\n",
       "      <td>1001\\tProvech\\t\\t0.00\\t987\\t1.14\\t987\\t1.14</td>\n",
       "    </tr>\n",
       "    <tr>\n",
       "      <th>7</th>\n",
       "      <td>1103\\tAlianza Frente P/La Victoria\\t31.445\\t36...</td>\n",
       "    </tr>\n",
       "    <tr>\n",
       "      <th>8</th>\n",
       "      <td>-\\tVotos en blanco\\t10.096\\t11.66\\t12.516\\t14....</td>\n",
       "    </tr>\n",
       "    <tr>\n",
       "      <th>9</th>\n",
       "      <td>-\\tAnulados\\t1.458\\t1.68\\t1.378\\t1.59\\t1.380\\t...</td>\n",
       "    </tr>\n",
       "  </tbody>\n",
       "</table>\n",
       "</div>"
      ],
      "text/plain": [
       "  Número\\tPartido Político\\tIntendente (Votos)\\tIntendente (%)\\tConcejales (Votos)\\tConcejales (%)\\tTrib. de Cuentas (Votos)\\tTrib. de Cuentas (%)\n",
       "0  2\\tPartido Justicialista\\t25.723\\t29.7\\t24.940...                                                                                              \n",
       "1  3\\tUnión Cívica Radical\\t12.131\\t14.01\\t12.100...                                                                                              \n",
       "2  38\\tMov. Soc. De Los Trabajadores\\t3.291\\t3.8\\...                                                                                              \n",
       "3  47\\tCoalición Cívica ARI\\t929\\t1.07\\t982\\t1.13...                                                                                              \n",
       "4  151\\tPartido Ind. Del Chubut (PICH)\\t757\\t0.87...                                                                                              \n",
       "5  157\\tPartido Acción Chubutense (PACH)\\t782\\t0....                                                                                              \n",
       "6        1001\\tProvech\\t\\t0.00\\t987\\t1.14\\t987\\t1.14                                                                                              \n",
       "7  1103\\tAlianza Frente P/La Victoria\\t31.445\\t36...                                                                                              \n",
       "8  -\\tVotos en blanco\\t10.096\\t11.66\\t12.516\\t14....                                                                                              \n",
       "9  -\\tAnulados\\t1.458\\t1.68\\t1.378\\t1.59\\t1.380\\t...                                                                                              "
      ]
     },
     "execution_count": 96,
     "metadata": {},
     "output_type": "execute_result"
    }
   ],
   "source": [
    "datos6.head(10)"
   ]
  },
  {
   "cell_type": "markdown",
   "id": "5c73b9a8",
   "metadata": {},
   "source": [
    "# Elecciones 2007 CRD"
   ]
  },
  {
   "cell_type": "code",
   "execution_count": 100,
   "id": "ffc06813",
   "metadata": {},
   "outputs": [
    {
     "data": {
      "text/html": [
       "<div>\n",
       "<style scoped>\n",
       "    .dataframe tbody tr th:only-of-type {\n",
       "        vertical-align: middle;\n",
       "    }\n",
       "\n",
       "    .dataframe tbody tr th {\n",
       "        vertical-align: top;\n",
       "    }\n",
       "\n",
       "    .dataframe thead th {\n",
       "        text-align: right;\n",
       "    }\n",
       "</style>\n",
       "<table border=\"1\" class=\"dataframe\">\n",
       "  <thead>\n",
       "    <tr style=\"text-align: right;\">\n",
       "      <th></th>\n",
       "      <th>Número</th>\n",
       "      <th>Partido Político</th>\n",
       "      <th>Intendente (Votos)</th>\n",
       "      <th>Intendente (%)</th>\n",
       "      <th>Concejales (Votos)</th>\n",
       "      <th>Concejales (%)</th>\n",
       "      <th>Trib. de Cuentas (Votos)</th>\n",
       "      <th>Trib. de Cuentas (%)</th>\n",
       "    </tr>\n",
       "  </thead>\n",
       "  <tbody>\n",
       "    <tr>\n",
       "      <th>0</th>\n",
       "      <td>2</td>\n",
       "      <td>Partido Justicialista</td>\n",
       "      <td>38.298</td>\n",
       "      <td>49.36</td>\n",
       "      <td>36.333</td>\n",
       "      <td>46.83</td>\n",
       "      <td>36.020</td>\n",
       "      <td>46.42</td>\n",
       "    </tr>\n",
       "    <tr>\n",
       "      <th>1</th>\n",
       "      <td>3</td>\n",
       "      <td>Unión Cívica Radical</td>\n",
       "      <td>13.005</td>\n",
       "      <td>16.76</td>\n",
       "      <td>12.557</td>\n",
       "      <td>16.18</td>\n",
       "      <td>12.316</td>\n",
       "      <td>15.87</td>\n",
       "    </tr>\n",
       "    <tr>\n",
       "      <th>2</th>\n",
       "      <td>47</td>\n",
       "      <td>ARI</td>\n",
       "      <td>2.903</td>\n",
       "      <td>3.74</td>\n",
       "      <td>3.133</td>\n",
       "      <td>4.04</td>\n",
       "      <td>3.120</td>\n",
       "      <td>4.02</td>\n",
       "    </tr>\n",
       "    <tr>\n",
       "      <th>3</th>\n",
       "      <td>157</td>\n",
       "      <td>PACH</td>\n",
       "      <td>3.678</td>\n",
       "      <td>4.74</td>\n",
       "      <td>3.861</td>\n",
       "      <td>4.98</td>\n",
       "      <td>3.817</td>\n",
       "      <td>4.92</td>\n",
       "    </tr>\n",
       "    <tr>\n",
       "      <th>4</th>\n",
       "      <td>1001</td>\n",
       "      <td>Provech</td>\n",
       "      <td>11.549</td>\n",
       "      <td>14.88</td>\n",
       "      <td>11.386</td>\n",
       "      <td>14.67</td>\n",
       "      <td>11.313</td>\n",
       "      <td>14.58</td>\n",
       "    </tr>\n",
       "    <tr>\n",
       "      <th>5</th>\n",
       "      <td>1244</td>\n",
       "      <td>Convergencia P/ Una Dem. Partic.</td>\n",
       "      <td>1.521</td>\n",
       "      <td>1.96</td>\n",
       "      <td>1.587</td>\n",
       "      <td>2.05</td>\n",
       "      <td>1.571</td>\n",
       "      <td>2.02</td>\n",
       "    </tr>\n",
       "    <tr>\n",
       "      <th>6</th>\n",
       "      <td>-</td>\n",
       "      <td>Votos en blanco</td>\n",
       "      <td>5.149</td>\n",
       "      <td>6.64</td>\n",
       "      <td>7.499</td>\n",
       "      <td>9.66</td>\n",
       "      <td>8.203</td>\n",
       "      <td>10.57</td>\n",
       "    </tr>\n",
       "    <tr>\n",
       "      <th>7</th>\n",
       "      <td>-</td>\n",
       "      <td>Anulados</td>\n",
       "      <td>1.490</td>\n",
       "      <td>1.92</td>\n",
       "      <td>1.237</td>\n",
       "      <td>1.59</td>\n",
       "      <td>1.233</td>\n",
       "      <td>1.59</td>\n",
       "    </tr>\n",
       "  </tbody>\n",
       "</table>\n",
       "</div>"
      ],
      "text/plain": [
       "  Número                  Partido Político  Intendente (Votos)  \\\n",
       "0      2             Partido Justicialista              38.298   \n",
       "1      3              Unión Cívica Radical              13.005   \n",
       "2     47                               ARI               2.903   \n",
       "3    157                              PACH               3.678   \n",
       "4   1001                           Provech              11.549   \n",
       "5   1244  Convergencia P/ Una Dem. Partic.               1.521   \n",
       "6      -                   Votos en blanco               5.149   \n",
       "7      -                          Anulados               1.490   \n",
       "\n",
       "   Intendente (%)  Concejales (Votos)  Concejales (%)  \\\n",
       "0           49.36              36.333           46.83   \n",
       "1           16.76              12.557           16.18   \n",
       "2            3.74               3.133            4.04   \n",
       "3            4.74               3.861            4.98   \n",
       "4           14.88              11.386           14.67   \n",
       "5            1.96               1.587            2.05   \n",
       "6            6.64               7.499            9.66   \n",
       "7            1.92               1.237            1.59   \n",
       "\n",
       "   Trib. de Cuentas (Votos)  Trib. de Cuentas (%)  \n",
       "0                    36.020                 46.42  \n",
       "1                    12.316                 15.87  \n",
       "2                     3.120                  4.02  \n",
       "3                     3.817                  4.92  \n",
       "4                    11.313                 14.58  \n",
       "5                     1.571                  2.02  \n",
       "6                     8.203                 10.57  \n",
       "7                     1.233                  1.59  "
      ]
     },
     "execution_count": 100,
     "metadata": {},
     "output_type": "execute_result"
    }
   ],
   "source": [
    "datos5 = pd.read_csv (\"https://datos.vivamoscomodoro.gob.ar/base/datasets/scuyo/dit/elecciones-2007.csv\")\n",
    "datos5.head(11)"
   ]
  },
  {
   "cell_type": "code",
   "execution_count": 99,
   "id": "d1b3898c",
   "metadata": {},
   "outputs": [
    {
     "ename": "IndexError",
     "evalue": "invalid index to scalar variable.",
     "output_type": "error",
     "traceback": [
      "\u001b[1;31m---------------------------------------------------------------------------\u001b[0m",
      "\u001b[1;31mIndexError\u001b[0m                                Traceback (most recent call last)",
      "\u001b[1;32m<ipython-input-99-bd653eaea246>\u001b[0m in \u001b[0;36m<module>\u001b[1;34m\u001b[0m\n\u001b[1;32m----> 1\u001b[1;33m \u001b[0mgen_cnt\u001b[0m \u001b[1;33m=\u001b[0m \u001b[0mgrafico5\u001b[0m\u001b[1;33m[\u001b[0m\u001b[1;34m'Trib.de Cuentas (Votos)'\u001b[0m\u001b[1;33m]\u001b[0m\u001b[1;33m.\u001b[0m\u001b[0mvalue_counts\u001b[0m\u001b[1;33m(\u001b[0m\u001b[1;33m)\u001b[0m\u001b[1;33m\u001b[0m\u001b[1;33m\u001b[0m\u001b[0m\n\u001b[0m",
      "\u001b[1;31mIndexError\u001b[0m: invalid index to scalar variable."
     ]
    }
   ],
   "source": [
    "gen_cnt = grafico5['Trib.de Cuentas (Votos)'].value_counts()"
   ]
  },
  {
   "cell_type": "code",
   "execution_count": 109,
   "id": "7cca4ded",
   "metadata": {},
   "outputs": [
    {
     "data": {
      "text/plain": [
       "Text(30, 0, ' 36020')"
      ]
     },
     "execution_count": 109,
     "metadata": {},
     "output_type": "execute_result"
    },
    {
     "data": {
      "image/png": "[encoded data removed]",
      "text/plain": [
       "<Figure size 1080x432 with 1 Axes>"
      ]
     },
     "metadata": {
      "needs_background": "light"
     },
     "output_type": "display_data"
    }
   ],
   "source": [
    "info =[('Votos Anulados',1233), ('Votos en blanco',8203),('Convergencia P/ Una Dem. Partic',1571), ('Provech',11313), ('PACH', 3817), ('ARI',3120), ('U.C.R', 12316), ('Partido Justicialista',36020)]\n",
    "data = []\n",
    "for v, c in info:\n",
    "  data.extend([v]*c)\n",
    "\n",
    "grafico5 = pd.DataFrame(data, columns=[\"Trib.de Cuentas (Votos)\"])\n",
    "\n",
    "ordered = sorted(gen_cnt.items(), key=lambda x: x[1], reverse=True)\n",
    "order = [ valor for valor, contador in ordered ]\n",
    "gen_cnt = grafico5['Trib.de Cuentas (Votos)'].value_counts()\n",
    "\n",
    "\n",
    "plt.figure (figsize=(15,6))\n",
    "\n",
    "plt.title ('Elecciones Generales 2007 Com. Riv')\n",
    "sns.countplot(data=grafico5, y='Trib.de Cuentas (Votos)', color=\"limegreen\", order=order)\n",
    "grafico5 = gen_cnt.values.sum()\n",
    "for i, (valor, contador) in enumerate(ordered):\n",
    "   pcnt = '{:0.1f}%'.format(100*contador/grafico5)\n",
    "   plt.text(contador-100, i, pcnt, va ='center')\n",
    "plt.text(30,0,\" 36020\",fontsize= 9,  color= \"black\")"
   ]
  },
  {
   "cell_type": "markdown",
   "id": "1203cf4f",
   "metadata": {},
   "source": [
    "# Elecciones 2003 CRD"
   ]
  },
  {
   "cell_type": "code",
   "execution_count": 38,
   "id": "7e5fd877",
   "metadata": {},
   "outputs": [],
   "source": [
    "datos4 = pd.read_csv (\"https://datos.vivamoscomodoro.gob.ar/base/datasets/scuyo/dit/elecciones-1995.csv\")"
   ]
  },
  {
   "cell_type": "code",
   "execution_count": 39,
   "id": "5b522816",
   "metadata": {},
   "outputs": [
    {
     "data": {
      "text/html": [
       "<div>\n",
       "<style scoped>\n",
       "    .dataframe tbody tr th:only-of-type {\n",
       "        vertical-align: middle;\n",
       "    }\n",
       "\n",
       "    .dataframe tbody tr th {\n",
       "        vertical-align: top;\n",
       "    }\n",
       "\n",
       "    .dataframe thead th {\n",
       "        text-align: right;\n",
       "    }\n",
       "</style>\n",
       "<table border=\"1\" class=\"dataframe\">\n",
       "  <thead>\n",
       "    <tr style=\"text-align: right;\">\n",
       "      <th></th>\n",
       "      <th>Número</th>\n",
       "      <th>Partido Político</th>\n",
       "      <th>Intendente (Votos)</th>\n",
       "      <th>Intendente (%)</th>\n",
       "      <th>Concejales (Votos)</th>\n",
       "      <th>Concejales (%)</th>\n",
       "      <th>Trib. de Cuentas (Votos)</th>\n",
       "      <th>Trib. de Cuentas (%)</th>\n",
       "    </tr>\n",
       "  </thead>\n",
       "  <tbody>\n",
       "    <tr>\n",
       "      <th>0</th>\n",
       "      <td>2</td>\n",
       "      <td>Partido Justicialista</td>\n",
       "      <td>24.648</td>\n",
       "      <td>41.41</td>\n",
       "      <td>16.357</td>\n",
       "      <td>37.45</td>\n",
       "      <td>22.236</td>\n",
       "      <td>37.35</td>\n",
       "    </tr>\n",
       "    <tr>\n",
       "      <th>1</th>\n",
       "      <td>3</td>\n",
       "      <td>Unión Cívica Radical</td>\n",
       "      <td>19.243</td>\n",
       "      <td>32.33</td>\n",
       "      <td>12.875</td>\n",
       "      <td>29.48</td>\n",
       "      <td>17.361</td>\n",
       "      <td>29.16</td>\n",
       "    </tr>\n",
       "    <tr>\n",
       "      <th>2</th>\n",
       "      <td>37</td>\n",
       "      <td>Modin</td>\n",
       "      <td>527.000</td>\n",
       "      <td>0.88</td>\n",
       "      <td>112.000</td>\n",
       "      <td>0.25</td>\n",
       "      <td>-</td>\n",
       "      <td>-</td>\n",
       "    </tr>\n",
       "    <tr>\n",
       "      <th>3</th>\n",
       "      <td>46</td>\n",
       "      <td>Frepaso</td>\n",
       "      <td>2.225</td>\n",
       "      <td>3.73</td>\n",
       "      <td>2.377</td>\n",
       "      <td>5.44</td>\n",
       "      <td>2.660</td>\n",
       "      <td>4.46</td>\n",
       "    </tr>\n",
       "    <tr>\n",
       "      <th>4</th>\n",
       "      <td>67</td>\n",
       "      <td>M.O.P.O.Ch.</td>\n",
       "      <td>567.000</td>\n",
       "      <td>0.95</td>\n",
       "      <td>334.000</td>\n",
       "      <td>0.76</td>\n",
       "      <td>470</td>\n",
       "      <td>0.78</td>\n",
       "    </tr>\n",
       "    <tr>\n",
       "      <th>5</th>\n",
       "      <td>121</td>\n",
       "      <td>A.P.R.E.M.</td>\n",
       "      <td>6.218</td>\n",
       "      <td>10.44</td>\n",
       "      <td>3.740</td>\n",
       "      <td>8.56</td>\n",
       "      <td>5.063</td>\n",
       "      <td>8.5</td>\n",
       "    </tr>\n",
       "    <tr>\n",
       "      <th>6</th>\n",
       "      <td>-</td>\n",
       "      <td>Votos En Blanco</td>\n",
       "      <td>5.556</td>\n",
       "      <td>9.33</td>\n",
       "      <td>7.573</td>\n",
       "      <td>17.34</td>\n",
       "      <td>11.234</td>\n",
       "      <td>18.87</td>\n",
       "    </tr>\n",
       "    <tr>\n",
       "      <th>7</th>\n",
       "      <td>-</td>\n",
       "      <td>Votos Anulados</td>\n",
       "      <td>535.000</td>\n",
       "      <td>0.89</td>\n",
       "      <td>301.000</td>\n",
       "      <td>0.68</td>\n",
       "      <td>495</td>\n",
       "      <td>0.83</td>\n",
       "    </tr>\n",
       "  </tbody>\n",
       "</table>\n",
       "</div>"
      ],
      "text/plain": [
       "  Número       Partido Político  Intendente (Votos)  Intendente (%)  \\\n",
       "0      2  Partido Justicialista              24.648           41.41   \n",
       "1      3   Unión Cívica Radical              19.243           32.33   \n",
       "2     37                  Modin             527.000            0.88   \n",
       "3     46                Frepaso               2.225            3.73   \n",
       "4     67            M.O.P.O.Ch.             567.000            0.95   \n",
       "5    121             A.P.R.E.M.               6.218           10.44   \n",
       "6      -        Votos En Blanco               5.556            9.33   \n",
       "7      -         Votos Anulados             535.000            0.89   \n",
       "\n",
       "   Concejales (Votos)  Concejales (%) Trib. de Cuentas (Votos)  \\\n",
       "0              16.357           37.45                   22.236   \n",
       "1              12.875           29.48                   17.361   \n",
       "2             112.000            0.25                        -   \n",
       "3               2.377            5.44                    2.660   \n",
       "4             334.000            0.76                      470   \n",
       "5               3.740            8.56                    5.063   \n",
       "6               7.573           17.34                   11.234   \n",
       "7             301.000            0.68                      495   \n",
       "\n",
       "  Trib. de Cuentas (%)  \n",
       "0                37.35  \n",
       "1                29.16  \n",
       "2                    -  \n",
       "3                 4.46  \n",
       "4                 0.78  \n",
       "5                  8.5  \n",
       "6                18.87  \n",
       "7                 0.83  "
      ]
     },
     "execution_count": 39,
     "metadata": {},
     "output_type": "execute_result"
    }
   ],
   "source": [
    "datos4.head(11)"
   ]
  },
  {
   "cell_type": "code",
   "execution_count": 43,
   "id": "dc5d92da",
   "metadata": {},
   "outputs": [],
   "source": [
    "gen_cnt = grafico4['Trib.de Cuentas (Votos)'].value_counts()"
   ]
  },
  {
   "cell_type": "code",
   "execution_count": 49,
   "id": "cea6eb63",
   "metadata": {},
   "outputs": [
    {
     "data": {
      "text/plain": [
       "Text(30, 0, ' 22.236')"
      ]
     },
     "execution_count": 49,
     "metadata": {},
     "output_type": "execute_result"
    },
    {
     "data": {
      "image/png": "[encoded data removed]",
      "text/plain": [
       "<Figure size 1080x432 with 1 Axes>"
      ]
     },
     "metadata": {
      "needs_background": "light"
     },
     "output_type": "display_data"
    }
   ],
   "source": [
    "info = [('Votos Anulados',495), ('Votos en blanco',11234), ('A.P.R.E.M',5063), ('M.O.P.O.Ch.',470), ('Frepaso', 2660), ('Modin',0), ('U.C.R', 17361), ('Partido Justicialista', 22236)]\n",
    "data = []\n",
    "for v, c in info:\n",
    "  data.extend([v]*c)\n",
    "\n",
    "grafico4 = pd.DataFrame(data, columns=[\"Trib.de Cuentas (Votos)\"])\n",
    "\n",
    "ordered = sorted(gen_cnt.items(), key=lambda x: x[1], reverse=True)\n",
    "order = [ valor for valor, contador in ordered ]\n",
    "gen_cnt = grafico4['Trib.de Cuentas (Votos)'].value_counts()\n",
    "\n",
    "\n",
    "plt.figure (figsize=(15,6))\n",
    "\n",
    "plt.title ('Elecciones Generales 2003 Com. Riv')\n",
    "sns.countplot(data=grafico4, y='Trib.de Cuentas (Votos)', color=\"limegreen\", order=order)\n",
    "grafico4 = gen_cnt.values.sum()\n",
    "for i, (valor, contador) in enumerate(ordered):\n",
    "   pcnt = '{:0.1f}%'.format(100*contador/grafico4)\n",
    "   plt.text(contador-100, i, pcnt, va ='center')\n",
    "plt.text(30,0,\" 22.236\",fontsize= 9,  color= \"black\")"
   ]
  },
  {
   "cell_type": "code",
   "execution_count": null,
   "id": "e1322967",
   "metadata": {},
   "outputs": [],
   "source": []
  },
  {
   "cell_type": "markdown",
   "id": "6f631458",
   "metadata": {},
   "source": [
    "# Elecciones 1999"
   ]
  },
  {
   "cell_type": "code",
   "execution_count": 88,
   "id": "fe4c9950",
   "metadata": {},
   "outputs": [],
   "source": [
    "datos3 = pd.read_csv (\"https://datos.vivamoscomodoro.gob.ar/base/datasets/scuyo/dit/elecciones-1999.csv\")"
   ]
  },
  {
   "cell_type": "code",
   "execution_count": 89,
   "id": "136bd23c",
   "metadata": {},
   "outputs": [
    {
     "data": {
      "text/html": [
       "<div>\n",
       "<style scoped>\n",
       "    .dataframe tbody tr th:only-of-type {\n",
       "        vertical-align: middle;\n",
       "    }\n",
       "\n",
       "    .dataframe tbody tr th {\n",
       "        vertical-align: top;\n",
       "    }\n",
       "\n",
       "    .dataframe thead th {\n",
       "        text-align: right;\n",
       "    }\n",
       "</style>\n",
       "<table border=\"1\" class=\"dataframe\">\n",
       "  <thead>\n",
       "    <tr style=\"text-align: right;\">\n",
       "      <th></th>\n",
       "      <th>Número</th>\n",
       "      <th>Partido Político</th>\n",
       "      <th>Intendente (Votos)</th>\n",
       "      <th>Intendente (%)</th>\n",
       "      <th>Concejales (Votos)</th>\n",
       "      <th>Concejales (%)</th>\n",
       "      <th>Trib. de Cuentas (Votos)</th>\n",
       "      <th>Trib. de Cuentas (%)</th>\n",
       "    </tr>\n",
       "  </thead>\n",
       "  <tbody>\n",
       "    <tr>\n",
       "      <th>0</th>\n",
       "      <td>2</td>\n",
       "      <td>Partido Justicialista</td>\n",
       "      <td>19.979</td>\n",
       "      <td>29.46</td>\n",
       "      <td>17.601</td>\n",
       "      <td>25.95</td>\n",
       "      <td>17.117</td>\n",
       "      <td>25.24</td>\n",
       "    </tr>\n",
       "    <tr>\n",
       "      <th>1</th>\n",
       "      <td>22</td>\n",
       "      <td>Partido Humanista</td>\n",
       "      <td>569.000</td>\n",
       "      <td>0.84</td>\n",
       "      <td>684.000</td>\n",
       "      <td>1.01</td>\n",
       "      <td>-</td>\n",
       "      <td>-</td>\n",
       "    </tr>\n",
       "    <tr>\n",
       "      <th>2</th>\n",
       "      <td>57</td>\n",
       "      <td>Partido Accion Chubutense</td>\n",
       "      <td>6.704</td>\n",
       "      <td>9.89</td>\n",
       "      <td>6.306</td>\n",
       "      <td>9.30</td>\n",
       "      <td>6.056</td>\n",
       "      <td>8.93</td>\n",
       "    </tr>\n",
       "    <tr>\n",
       "      <th>3</th>\n",
       "      <td>60</td>\n",
       "      <td>Partido Socialista Autentico</td>\n",
       "      <td>551.000</td>\n",
       "      <td>0.81</td>\n",
       "      <td>948.000</td>\n",
       "      <td>1.40</td>\n",
       "      <td>723</td>\n",
       "      <td>1.07</td>\n",
       "    </tr>\n",
       "    <tr>\n",
       "      <th>4</th>\n",
       "      <td>123</td>\n",
       "      <td>A. Para El Trab. La Just. Y La Edu.</td>\n",
       "      <td>25.274</td>\n",
       "      <td>37.27</td>\n",
       "      <td>24.961</td>\n",
       "      <td>36.81</td>\n",
       "      <td>24.780</td>\n",
       "      <td>36.54</td>\n",
       "    </tr>\n",
       "  </tbody>\n",
       "</table>\n",
       "</div>"
      ],
      "text/plain": [
       "  Número                     Partido Político  Intendente (Votos)  \\\n",
       "0      2                Partido Justicialista              19.979   \n",
       "1     22                    Partido Humanista             569.000   \n",
       "2     57            Partido Accion Chubutense               6.704   \n",
       "3     60         Partido Socialista Autentico             551.000   \n",
       "4    123  A. Para El Trab. La Just. Y La Edu.              25.274   \n",
       "\n",
       "   Intendente (%)  Concejales (Votos)  Concejales (%)  \\\n",
       "0           29.46              17.601           25.95   \n",
       "1            0.84             684.000            1.01   \n",
       "2            9.89               6.306            9.30   \n",
       "3            0.81             948.000            1.40   \n",
       "4           37.27              24.961           36.81   \n",
       "\n",
       "  Trib. de Cuentas (Votos) Trib. de Cuentas (%)  \n",
       "0                   17.117                25.24  \n",
       "1                        -                    -  \n",
       "2                    6.056                 8.93  \n",
       "3                      723                 1.07  \n",
       "4                   24.780                36.54  "
      ]
     },
     "execution_count": 89,
     "metadata": {},
     "output_type": "execute_result"
    }
   ],
   "source": [
    "datos3.head()"
   ]
  },
  {
   "cell_type": "code",
   "execution_count": 94,
   "id": "667d75b9",
   "metadata": {},
   "outputs": [
    {
     "ename": "IndexError",
     "evalue": "invalid index to scalar variable.",
     "output_type": "error",
     "traceback": [
      "\u001b[1;31m---------------------------------------------------------------------------\u001b[0m",
      "\u001b[1;31mIndexError\u001b[0m                                Traceback (most recent call last)",
      "\u001b[1;32m<ipython-input-94-0b5f7e52941d>\u001b[0m in \u001b[0;36m<module>\u001b[1;34m\u001b[0m\n\u001b[1;32m----> 1\u001b[1;33m \u001b[0mgen_cnt\u001b[0m \u001b[1;33m=\u001b[0m \u001b[0mgrafico3\u001b[0m\u001b[1;33m[\u001b[0m\u001b[1;34m'Trib.de Cuentas (Votos)'\u001b[0m\u001b[1;33m]\u001b[0m\u001b[1;33m.\u001b[0m\u001b[0mvalue_counts\u001b[0m\u001b[1;33m(\u001b[0m\u001b[1;33m)\u001b[0m\u001b[1;33m\u001b[0m\u001b[1;33m\u001b[0m\u001b[0m\n\u001b[0m",
      "\u001b[1;31mIndexError\u001b[0m: invalid index to scalar variable."
     ]
    }
   ],
   "source": [
    "gen_cnt = grafico3['Trib.de Cuentas (Votos)'].value_counts()"
   ]
  },
  {
   "cell_type": "code",
   "execution_count": 93,
   "id": "978bb4d4",
   "metadata": {},
   "outputs": [
    {
     "data": {
      "text/plain": [
       "Text(30, 0, ' 17.117')"
      ]
     },
     "execution_count": 93,
     "metadata": {},
     "output_type": "execute_result"
    },
    {
     "data": {
      "image/png": "[encoded data removed]",
      "text/plain": [
       "<Figure size 1080x432 with 1 Axes>"
      ]
     },
     "metadata": {
      "needs_background": "light"
     },
     "output_type": "display_data"
    }
   ],
   "source": [
    "info = [('Votos Anulados',910), ('Votos en blanco',12563), ('Partido Proyeccion Vecinalista',4995), ('Partido Vecinal Comodorense',670), ('A. Para El Trab. La Just. y La Edu.', 24780), ('Partido Socialista Autentico', 723), ('Partido Accion Chubutense', 6056), ('Partido humanista', 0), ('Partido Justicialista', 17117)]\n",
    "data = []\n",
    "for v, c in info:\n",
    "  data.extend([v]*c)\n",
    "\n",
    "grafico3 = pd.DataFrame(data, columns=[\"Trib.de Cuentas (Votos)\"])\n",
    "\n",
    "ordered = sorted(gen_cnt.items(), key=lambda x: x[1], reverse=True)\n",
    "order = [ valor for valor, contador in ordered ]\n",
    "gen_cnt = grafico3['Trib.de Cuentas (Votos)'].value_counts()\n",
    "\n",
    "\n",
    "plt.figure (figsize=(15,6))\n",
    "\n",
    "plt.title ('Elecciones Generales 1999 Com. Riv')\n",
    "sns.countplot(data=grafico3, y='Trib.de Cuentas (Votos)', color=\"limegreen\", order=order)\n",
    "grafico3 = gen_cnt.values.sum()\n",
    "for i, (valor, contador) in enumerate(ordered):\n",
    "   pcnt = '{:0.1f}%'.format(100*contador/grafico3)\n",
    "   plt.text(contador-100, i, pcnt, va ='center')\n",
    "plt.text(30,0,\" 17.117\",fontsize= 9,  color= \"black\")"
   ]
  },
  {
   "cell_type": "markdown",
   "id": "b9380657",
   "metadata": {},
   "source": [
    "# Elecciones 1995"
   ]
  },
  {
   "cell_type": "code",
   "execution_count": 110,
   "id": "fb73fc81",
   "metadata": {},
   "outputs": [],
   "source": [
    "datos2 = pd.read_csv (\"https://datos.vivamoscomodoro.gob.ar/base/datasets/scuyo/dit/elecciones-1995.csv\")"
   ]
  },
  {
   "cell_type": "code",
   "execution_count": 111,
   "id": "37545daa",
   "metadata": {},
   "outputs": [
    {
     "data": {
      "text/html": [
       "<div>\n",
       "<style scoped>\n",
       "    .dataframe tbody tr th:only-of-type {\n",
       "        vertical-align: middle;\n",
       "    }\n",
       "\n",
       "    .dataframe tbody tr th {\n",
       "        vertical-align: top;\n",
       "    }\n",
       "\n",
       "    .dataframe thead th {\n",
       "        text-align: right;\n",
       "    }\n",
       "</style>\n",
       "<table border=\"1\" class=\"dataframe\">\n",
       "  <thead>\n",
       "    <tr style=\"text-align: right;\">\n",
       "      <th></th>\n",
       "      <th>Número</th>\n",
       "      <th>Partido Político</th>\n",
       "      <th>Intendente (Votos)</th>\n",
       "      <th>Intendente (%)</th>\n",
       "      <th>Concejales (Votos)</th>\n",
       "      <th>Concejales (%)</th>\n",
       "      <th>Trib. de Cuentas (Votos)</th>\n",
       "      <th>Trib. de Cuentas (%)</th>\n",
       "    </tr>\n",
       "  </thead>\n",
       "  <tbody>\n",
       "    <tr>\n",
       "      <th>0</th>\n",
       "      <td>2</td>\n",
       "      <td>Partido Justicialista</td>\n",
       "      <td>24.648</td>\n",
       "      <td>41.41</td>\n",
       "      <td>16.357</td>\n",
       "      <td>37.45</td>\n",
       "      <td>22.236</td>\n",
       "      <td>37.35</td>\n",
       "    </tr>\n",
       "    <tr>\n",
       "      <th>1</th>\n",
       "      <td>3</td>\n",
       "      <td>Unión Cívica Radical</td>\n",
       "      <td>19.243</td>\n",
       "      <td>32.33</td>\n",
       "      <td>12.875</td>\n",
       "      <td>29.48</td>\n",
       "      <td>17.361</td>\n",
       "      <td>29.16</td>\n",
       "    </tr>\n",
       "    <tr>\n",
       "      <th>2</th>\n",
       "      <td>37</td>\n",
       "      <td>Modin</td>\n",
       "      <td>527.000</td>\n",
       "      <td>0.88</td>\n",
       "      <td>112.000</td>\n",
       "      <td>0.25</td>\n",
       "      <td>-</td>\n",
       "      <td>-</td>\n",
       "    </tr>\n",
       "    <tr>\n",
       "      <th>3</th>\n",
       "      <td>46</td>\n",
       "      <td>Frepaso</td>\n",
       "      <td>2.225</td>\n",
       "      <td>3.73</td>\n",
       "      <td>2.377</td>\n",
       "      <td>5.44</td>\n",
       "      <td>2.660</td>\n",
       "      <td>4.46</td>\n",
       "    </tr>\n",
       "    <tr>\n",
       "      <th>4</th>\n",
       "      <td>67</td>\n",
       "      <td>M.O.P.O.Ch.</td>\n",
       "      <td>567.000</td>\n",
       "      <td>0.95</td>\n",
       "      <td>334.000</td>\n",
       "      <td>0.76</td>\n",
       "      <td>470</td>\n",
       "      <td>0.78</td>\n",
       "    </tr>\n",
       "    <tr>\n",
       "      <th>5</th>\n",
       "      <td>121</td>\n",
       "      <td>A.P.R.E.M.</td>\n",
       "      <td>6.218</td>\n",
       "      <td>10.44</td>\n",
       "      <td>3.740</td>\n",
       "      <td>8.56</td>\n",
       "      <td>5.063</td>\n",
       "      <td>8.5</td>\n",
       "    </tr>\n",
       "    <tr>\n",
       "      <th>6</th>\n",
       "      <td>-</td>\n",
       "      <td>Votos En Blanco</td>\n",
       "      <td>5.556</td>\n",
       "      <td>9.33</td>\n",
       "      <td>7.573</td>\n",
       "      <td>17.34</td>\n",
       "      <td>11.234</td>\n",
       "      <td>18.87</td>\n",
       "    </tr>\n",
       "    <tr>\n",
       "      <th>7</th>\n",
       "      <td>-</td>\n",
       "      <td>Votos Anulados</td>\n",
       "      <td>535.000</td>\n",
       "      <td>0.89</td>\n",
       "      <td>301.000</td>\n",
       "      <td>0.68</td>\n",
       "      <td>495</td>\n",
       "      <td>0.83</td>\n",
       "    </tr>\n",
       "  </tbody>\n",
       "</table>\n",
       "</div>"
      ],
      "text/plain": [
       "  Número       Partido Político  Intendente (Votos)  Intendente (%)  \\\n",
       "0      2  Partido Justicialista              24.648           41.41   \n",
       "1      3   Unión Cívica Radical              19.243           32.33   \n",
       "2     37                  Modin             527.000            0.88   \n",
       "3     46                Frepaso               2.225            3.73   \n",
       "4     67            M.O.P.O.Ch.             567.000            0.95   \n",
       "5    121             A.P.R.E.M.               6.218           10.44   \n",
       "6      -        Votos En Blanco               5.556            9.33   \n",
       "7      -         Votos Anulados             535.000            0.89   \n",
       "\n",
       "   Concejales (Votos)  Concejales (%) Trib. de Cuentas (Votos)  \\\n",
       "0              16.357           37.45                   22.236   \n",
       "1              12.875           29.48                   17.361   \n",
       "2             112.000            0.25                        -   \n",
       "3               2.377            5.44                    2.660   \n",
       "4             334.000            0.76                      470   \n",
       "5               3.740            8.56                    5.063   \n",
       "6               7.573           17.34                   11.234   \n",
       "7             301.000            0.68                      495   \n",
       "\n",
       "  Trib. de Cuentas (%)  \n",
       "0                37.35  \n",
       "1                29.16  \n",
       "2                    -  \n",
       "3                 4.46  \n",
       "4                 0.78  \n",
       "5                  8.5  \n",
       "6                18.87  \n",
       "7                 0.83  "
      ]
     },
     "execution_count": 111,
     "metadata": {},
     "output_type": "execute_result"
    }
   ],
   "source": [
    "datos2.head(11)"
   ]
  },
  {
   "cell_type": "code",
   "execution_count": 113,
   "id": "a834aaf4",
   "metadata": {},
   "outputs": [
    {
     "ename": "IndexError",
     "evalue": "invalid index to scalar variable.",
     "output_type": "error",
     "traceback": [
      "\u001b[1;31m---------------------------------------------------------------------------\u001b[0m",
      "\u001b[1;31mIndexError\u001b[0m                                Traceback (most recent call last)",
      "\u001b[1;32m<ipython-input-113-5da27cc7a29e>\u001b[0m in \u001b[0;36m<module>\u001b[1;34m\u001b[0m\n\u001b[1;32m----> 1\u001b[1;33m \u001b[0mgen_cnt\u001b[0m \u001b[1;33m=\u001b[0m \u001b[0mgrafico2\u001b[0m\u001b[1;33m[\u001b[0m\u001b[1;34m'Trib.de Cuentas (Votos)'\u001b[0m\u001b[1;33m]\u001b[0m\u001b[1;33m.\u001b[0m\u001b[0mvalue_counts\u001b[0m\u001b[1;33m(\u001b[0m\u001b[1;33m)\u001b[0m\u001b[1;33m\u001b[0m\u001b[1;33m\u001b[0m\u001b[0m\n\u001b[0m",
      "\u001b[1;31mIndexError\u001b[0m: invalid index to scalar variable."
     ]
    }
   ],
   "source": [
    "gen_cnt = grafico2['Trib.de Cuentas (Votos)'].value_counts()"
   ]
  },
  {
   "cell_type": "code",
   "execution_count": 120,
   "id": "ac882f3a",
   "metadata": {},
   "outputs": [
    {
     "data": {
      "text/plain": [
       "Text(30, 0, ' 22.236')"
      ]
     },
     "execution_count": 120,
     "metadata": {},
     "output_type": "execute_result"
    },
    {
     "data": {
      "image/png": "[encoded data removed]",
      "text/plain": [
       "<Figure size 1080x432 with 1 Axes>"
      ]
     },
     "metadata": {
      "needs_background": "light"
     },
     "output_type": "display_data"
    }
   ],
   "source": [
    "info = [('Votos Anulados',495), ('Votos en blanco',11234), ('A.P.R.E.M',5063), ('M.O.P.O.Ch.',470), ('Frepaso', 2660), ('Modin', 0), ('U.C.R', 17361), ('Partido Justicialista', 22236)]\n",
    "data = []\n",
    "for v, c in info:\n",
    "  data.extend([v]*c)\n",
    "\n",
    "grafico2 = pd.DataFrame(data, columns=[\"Trib.de Cuentas (Votos)\"])\n",
    "\n",
    "ordered = sorted(gen_cnt.items(), key=lambda x: x[1], reverse=True)\n",
    "order = [ valor for valor, contador in ordered ]\n",
    "gen_cnt = grafico2['Trib.de Cuentas (Votos)'].value_counts()\n",
    "\n",
    "\n",
    "plt.figure (figsize=(15,6))\n",
    "\n",
    "plt.title ('Elecciones Generales 1995 Com. Riv')\n",
    "sns.countplot(data=grafico2, y='Trib.de Cuentas (Votos)', color=\"limegreen\", order=order)\n",
    "grafico2 = gen_cnt.values.sum()\n",
    "for i, (valor, contador) in enumerate(ordered):\n",
    "   pcnt = '{:0.1f}%'.format(100*contador/grafico2)\n",
    "   plt.text(contador-100, i, pcnt, va ='center')\n",
    "plt.text(30,0,\" 22.236\",fontsize= 9,  color= \"black\")"
   ]
  },
  {
   "cell_type": "code",
   "execution_count": null,
   "id": "5350f211",
   "metadata": {},
   "outputs": [],
   "source": []
  }
 ],
 "metadata": {
  "kernelspec": {
   "display_name": "Python 3",
   "language": "python",
   "name": "python3"
  },
  "language_info": {
   "codemirror_mode": {
    "name": "ipython",
    "version": 3
   },
   "file_extension": ".py",
   "mimetype": "text/x-python",
   "name": "python",
   "nbconvert_exporter": "python",
   "pygments_lexer": "ipython3",
   "version": "3.8.8"
  }
 },
 "nbformat": 4,
 "nbformat_minor": 5
}
