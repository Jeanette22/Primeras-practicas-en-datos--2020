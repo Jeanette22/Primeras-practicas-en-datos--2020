{
 "cells": [
  {
   "cell_type": "code",
   "execution_count": 2,
   "id": "e1117877",
   "metadata": {},
   "outputs": [],
   "source": [
    "def suma(a,b):                       #DEFINI UNA SUMA COMO FUNCIÓN\n",
    "    return a+b\n",
    "    "
   ]
  },
  {
   "cell_type": "code",
   "execution_count": 3,
   "id": "7d9f8687",
   "metadata": {},
   "outputs": [
    {
     "data": {
      "text/plain": [
       "4"
      ]
     },
     "execution_count": 3,
     "metadata": {},
     "output_type": "execute_result"
    }
   ],
   "source": [
    "suma (2,2)"
   ]
  },
  {
   "cell_type": "code",
   "execution_count": 6,
   "id": "f9709255",
   "metadata": {},
   "outputs": [],
   "source": [
    "def resta (a,b,c):\n",
    "    return a-b-c"
   ]
  },
  {
   "cell_type": "code",
   "execution_count": 7,
   "id": "d22e8da1",
   "metadata": {},
   "outputs": [
    {
     "data": {
      "text/plain": [
       "-2"
      ]
     },
     "execution_count": 7,
     "metadata": {},
     "output_type": "execute_result"
    }
   ],
   "source": [
    "resta (2,3,1)"
   ]
  },
  {
   "cell_type": "markdown",
   "id": "5c26f271",
   "metadata": {},
   "source": [
    "# USO DEL INPUT"
   ]
  },
  {
   "cell_type": "code",
   "execution_count": 50,
   "id": "97b9c999",
   "metadata": {},
   "outputs": [
    {
     "name": "stdout",
     "output_type": "stream",
     "text": [
      "ingresa tu numbre: Leticia \n",
      "Hey hola Leticia como estás?.\n"
     ]
    }
   ],
   "source": [
    "nombre = input (\"ingresa tu numbre: \")\n",
    "print (\"Hey hola \" + nombre + \"como estás?.\")"
   ]
  },
  {
   "cell_type": "markdown",
   "id": "5c33fd5d",
   "metadata": {},
   "source": [
    "# EJEMPLO DE UNA PROG. DE UNA EMPRESA QUE SUME SUS GANANCIAS "
   ]
  },
  {
   "cell_type": "code",
   "execution_count": 62,
   "id": "4a2b34db",
   "metadata": {},
   "outputs": [
    {
     "name": "stdout",
     "output_type": "stream",
     "text": [
      "Ingrese las ganancias de Octubre: 10000\n",
      "Ingrese las ganancias de Noviembre: 10000\n",
      "Ingrese las ganancias de Diciembre: 100\n",
      "Las ganancias totales fueron de: 20100\n"
     ]
    }
   ],
   "source": [
    "gananciasOctubre = int(input (\"Ingrese las ganancias de Octubre: \")) #LOS CALCULOS SOLO SON CON ENTEROS Y DECIMALES, POR ESO \n",
    "gananciasNoviembre = int(input (\"Ingrese las ganancias de Noviembre: \"))  #SE TRANSFORMA CON EL INT ANTES DEL INPUT \n",
    "gananciasDiciembre = int(input (\"Ingrese las ganancias de Diciembre: \"))    #LUEGO EN GANANCIA TOTALES LO TOMA PARA CALCULAR\n",
    "GananciaTotales = (gananciasOctubre + gananciasNoviembre + gananciasDiciembre)\n",
    "print (\"Las ganancias totales fueron de:\",GananciaTotales)\n"
   ]
  },
  {
   "cell_type": "markdown",
   "id": "b3ea5863",
   "metadata": {},
   "source": [
    "# INGRESO DE DATOS PARA PERFIL DE PERSONA "
   ]
  },
  {
   "cell_type": "code",
   "execution_count": 2,
   "id": "af1cce16",
   "metadata": {},
   "outputs": [
    {
     "name": "stdout",
     "output_type": "stream",
     "text": [
      "¿Cual es tu nombre?: leticia\n",
      "¿Cuántos años tienes?: 30\n",
      "¿Cuál es tu comida favorita?: palta\n",
      "¿Cuál es tu música favorita?indie\n",
      "¿Cuál es tu tipo de película favorita?drama\n",
      "\n",
      "Nombre: leticia\n",
      "Edad: 30\n",
      "Comida Favorita: palta\n",
      "Música Favorita: indie\n",
      "Tipo de Películas Favorito: drama\n"
     ]
    }
   ],
   "source": [
    "nombre = input (\"¿Cual es tu nombre?: \")\n",
    "edad = int (input(\"¿Cuántos años tienes?: \"))\n",
    "comidaFavorita = input (\"¿Cuál es tu comida favorita?: \")\n",
    "musicaFavorita = input (\"¿Cuál es tu música favorita?\")\n",
    "tipoDePeliculasFavorito= input (\"¿Cuál es tu tipo de película favorita?\")\n",
    "print()\n",
    "print(\"Nombre:\", nombre)\n",
    "print(\"Edad:\", edad)\n",
    "print (\"Comida Favorita:\", comidaFavorita)\n",
    "print (\"Música Favorita:\", musicaFavorita)\n",
    "print (\"Tipo de Películas Favorito:\", tipoDePeliculasFavorito)\n"
   ]
  },
  {
   "cell_type": "markdown",
   "id": "9451735e",
   "metadata": {},
   "source": [
    "# USO DEL IF, ELSE, ELIF (CONDICIONALES)"
   ]
  },
  {
   "cell_type": "code",
   "execution_count": 9,
   "id": "9bd5a7e1",
   "metadata": {},
   "outputs": [
    {
     "name": "stdout",
     "output_type": "stream",
     "text": [
      "ingrese un número: 0\n",
      "el numero es 0\n"
     ]
    }
   ],
   "source": [
    "numero = int (input(\"ingrese un número: \"))\n",
    "#Para saber que el numero es positivo, ya que cualquiera mayor a 0 es +\n",
    "if numero > 0: \n",
    "    print (\"el numero es positivo\")\n",
    "elif numero == 0:\n",
    "    print (\"el numero es 0\")  \n",
    "else: \n",
    "    print (\"el numero es negativo\")\n",
    "\n"
   ]
  },
  {
   "cell_type": "markdown",
   "id": "2e5e6a5f",
   "metadata": {},
   "source": [
    "# CONCATENAR EJEMPLO "
   ]
  },
  {
   "cell_type": "code",
   "execution_count": 12,
   "id": "d6e1ee00",
   "metadata": {},
   "outputs": [],
   "source": [
    "Saludo = \"buenos dias\"          #unir cadenas de textos \n",
    "nombre = \"Jeanette\" "
   ]
  },
  {
   "cell_type": "code",
   "execution_count": 11,
   "id": "d7b169a2",
   "metadata": {},
   "outputs": [
    {
     "data": {
      "text/plain": [
       "'buenos dias'"
      ]
     },
     "execution_count": 11,
     "metadata": {},
     "output_type": "execute_result"
    }
   ],
   "source": [
    "Saludo"
   ]
  },
  {
   "cell_type": "code",
   "execution_count": 17,
   "id": "c37724aa",
   "metadata": {
    "scrolled": true
   },
   "outputs": [
    {
     "name": "stdout",
     "output_type": "stream",
     "text": [
      "buenos dias, Jeanette\n"
     ]
    }
   ],
   "source": [
    "SaludoCompleto = Saludo+ \", \" + nombre       #agregarmos \",\" para darle espacio entre las variables y sus valores\n",
    "print (SaludoCompleto)"
   ]
  },
  {
   "cell_type": "code",
   "execution_count": 19,
   "id": "bf7481bb",
   "metadata": {},
   "outputs": [
    {
     "name": "stdout",
     "output_type": "stream",
     "text": [
      "buenos dias, Jeanette\n"
     ]
    }
   ],
   "source": [
    "#LO MISMO QUE LO ANTERIOR PERO USANDO +=\n",
    "saludo = \"buenos dias\"\n",
    "saludo += \", \"\n",
    "saludo += \"Jeanette\"\n",
    "print (saludo)"
   ]
  },
  {
   "cell_type": "code",
   "execution_count": 24,
   "id": "8344521c",
   "metadata": {},
   "outputs": [
    {
     "name": "stdout",
     "output_type": "stream",
     "text": [
      "son las: 14\n"
     ]
    }
   ],
   "source": [
    "#en el caso de que sean con numeros y palabras: \n",
    "\n",
    "textoinicial = \"son las: \"\n",
    "hora = 14\n",
    "\n",
    "mensajeCompleto = textoinicial + str (hora)   #PARA PASAR TODO A UNA CADENA DE TEXTO USAMOS STR QUE PASA LA HORA A TXT\n",
    "print (mensajeCompleto)                       #LUEGO SE PIDE LA INFO COMPLETA, o INT PARA PASAR TODO A NUMEROS Y HACER CALCULOS"
   ]
  },
  {
   "cell_type": "code",
   "execution_count": 26,
   "id": "d90471a9",
   "metadata": {},
   "outputs": [
    {
     "name": "stdout",
     "output_type": "stream",
     "text": [
      "mi gato tiene: 3 de edad\n"
     ]
    }
   ],
   "source": [
    "#OTRA FORMA DE IMPRIMIR TEXTO CON VARIABLES CON NUMEROS ES: \n",
    "\n",
    "edad = 3\n",
    "print (\"mi gato tiene:\", edad, \"de edad\")"
   ]
  },
  {
   "cell_type": "markdown",
   "id": "dd0aec99",
   "metadata": {},
   "source": [
    "# CAMBIAR EL TIPO DE VARIABLE "
   ]
  },
  {
   "cell_type": "code",
   "execution_count": 28,
   "id": "9d5c5825",
   "metadata": {},
   "outputs": [
    {
     "name": "stdout",
     "output_type": "stream",
     "text": [
      "3\n"
     ]
    }
   ],
   "source": [
    "num1 = '2'   #camabiar un numero que esta dentro de un str, y pasarlo a un entero\n",
    "num2 = '1'\n",
    "print ( int (num1) + int (num2))"
   ]
  },
  {
   "cell_type": "code",
   "execution_count": 29,
   "id": "0551e6c9",
   "metadata": {},
   "outputs": [
    {
     "name": "stdout",
     "output_type": "stream",
     "text": [
      "2\n"
     ]
    }
   ],
   "source": [
    "condecimal = 2.2            #FLOAT \n",
    "print (int (condecimal))"
   ]
  },
  {
   "cell_type": "code",
   "execution_count": 32,
   "id": "d2037ade",
   "metadata": {},
   "outputs": [
    {
     "name": "stdout",
     "output_type": "stream",
     "text": [
      "63.65\n",
      "no nos alcanza :(\n"
     ]
    }
   ],
   "source": [
    "dineroTotal=0\n",
    "miDinero = 14.50\n",
    "dineroLuis= 17\n",
    "dineroValentina= 12.15\n",
    "dineroDaniel= 20\n",
    "dineroTotal = miDinero + dineroLuis + dineroValentina + dineroDaniel \n",
    "print (dineroTotal)\n",
    "print (\"no nos alcanza :(\")"
   ]
  },
  {
   "cell_type": "markdown",
   "id": "94456e57",
   "metadata": {},
   "source": [
    "# ACTUALIZAR VARIABLES CON RESTAS Y SUMAS "
   ]
  },
  {
   "cell_type": "code",
   "execution_count": 41,
   "id": "9f31c275",
   "metadata": {},
   "outputs": [
    {
     "name": "stdout",
     "output_type": "stream",
     "text": [
      "37.7\n",
      "7.700000000000003\n",
      "27.700000000000003\n",
      "2.700000000000003\n"
     ]
    }
   ],
   "source": [
    "dineroDisponible = 50          #DINERO DISPONIBLE \n",
    "dineroDisponible -= 12.30      #DIRENO QUE RESTO DE MI DISPONIBLE PORQUE COMPRE ALGO\n",
    "print (dineroDisponible)   \n",
    "dineroDisponible -= 30            #COMPRE ALGO DE 30 USD\n",
    "print (dineroDisponible)\n",
    "dineroDisponible += 20         #UN AMIGO ME DIO 20 USD \n",
    "print (dineroDisponible)\n",
    "dineroDisponible -=25           #COMPRE ALGO MAS\n",
    "print (dineroDisponible)"
   ]
  },
  {
   "cell_type": "code",
   "execution_count": 49,
   "id": "6828d29e",
   "metadata": {},
   "outputs": [
    {
     "name": "stdout",
     "output_type": "stream",
     "text": [
      "Arma 1: Espada\n",
      "Daño: 2.2\n",
      "Resistencia: 5\n",
      "\n",
      "Arma 2: Arco\n",
      "Daño: 3.5\n",
      "Resistencia:  7\n"
     ]
    }
   ],
   "source": [
    "#Estás diseñando un juego. Tienes que darle valores a las armas que se usan.\n",
    "#Aquí verás las dos armas que se usan en el juego.\n",
    "\n",
    "arma1 = \"Espada\"\n",
    "arma2 = \"Arco\"\n",
    "dañoEspada = 2.2\n",
    "resistenciaEspada = 5\n",
    "dañoArco = 3.5\n",
    "resitenciaArco= 7\n",
    "\n",
    "print(\"Arma 1: \" + arma1)\n",
    "print(\"Daño:\", dañoEspada)\n",
    "print(\"Resistencia:\", resistenciaEspada)\n",
    "print()\n",
    "print(\"Arma 2: \" + arma2)\n",
    "print(\"Daño:\", dañoArco)\n",
    "print(\"Resistencia: \", resitenciaArco)\n"
   ]
  },
  {
   "cell_type": "code",
   "execution_count": 76,
   "id": "97d88399",
   "metadata": {},
   "outputs": [],
   "source": [
    "def saludar (nombre, empresa):\n",
    "    print (\"Hola, \" + nombre + \" \" + \"te  saluda \" + empresa + \".\")\n",
    "    print (\"Bienvenida a la empresa\")\n",
    "    print (\"¿Como estás?\")\n",
    "    print (\"Es un gusto!\" + \" \" + nombre + \".\")"
   ]
  },
  {
   "cell_type": "code",
   "execution_count": 77,
   "id": "e4d1f99e",
   "metadata": {},
   "outputs": [
    {
     "name": "stdout",
     "output_type": "stream",
     "text": [
      "Hola, Leticia te  saluda Despegar.\n",
      "Bienvenida a la empresa\n",
      "¿Como estás?\n",
      "Es un gusto! Leticia.\n"
     ]
    }
   ],
   "source": [
    "saludar(\"Leticia\", \"Despegar\")"
   ]
  },
  {
   "cell_type": "markdown",
   "id": "61190af9",
   "metadata": {},
   "source": [
    "# USO DEL CONDICIONAL: IF/ELSE "
   ]
  },
  {
   "cell_type": "code",
   "execution_count": 1,
   "id": "fdb37f45",
   "metadata": {},
   "outputs": [
    {
     "name": "stdout",
     "output_type": "stream",
     "text": [
      "es falsa\n",
      "termino de programa\n"
     ]
    }
   ],
   "source": [
    "if (1>3):               #operaciones : >,<, != , ==, >=,<=\n",
    "    print (\"la condicion es verdadera\")\n",
    "else: \n",
    "    print (\"es falsa\")\n",
    "print (\"termino de programa\")    "
   ]
  },
  {
   "cell_type": "code",
   "execution_count": 5,
   "id": "de38d814",
   "metadata": {},
   "outputs": [
    {
     "name": "stdout",
     "output_type": "stream",
     "text": [
      "ingrese comida: carne\n",
      "es falsa\n",
      "termino de programa\n"
     ]
    }
   ],
   "source": [
    "a = input(\"ingrese comida: \")     #para que la persona ingrese por teclado\n",
    "b= \"vegetal\"         #definis variable \n",
    "\n",
    "if (a==b):   #comparamos si lo que se ingresa es igual a la variable b establecida\n",
    "    print (\"la condicion es verdadera\")\n",
    "else: \n",
    "    print (\"es falsa\")\n",
    "print (\"termino de programa\")    "
   ]
  },
  {
   "cell_type": "markdown",
   "id": "3c547d0c",
   "metadata": {},
   "source": [
    "# EJERCICIOS CLASE IT"
   ]
  },
  {
   "cell_type": "code",
   "execution_count": null,
   "id": "d93e242f",
   "metadata": {},
   "outputs": [],
   "source": [
    "#Ejercicio 1\n",
    "#Escribir un programa que pregunte el nombre del usuario en la consola \n",
    "#y un número entero e imprima por pantalla en líneas distintas \n",
    "#el nombre del usuario tantas veces como el número introducido."
   ]
  },
  {
   "cell_type": "code",
   "execution_count": 33,
   "id": "58c470e9",
   "metadata": {},
   "outputs": [
    {
     "name": "stdout",
     "output_type": "stream",
     "text": [
      "Hola, ingrese su nombre: leticia\n",
      "Ingrese un numero entero: 6\n",
      "leticia\n",
      "leticia\n",
      "leticia\n",
      "leticia\n",
      "leticia\n",
      "leticia\n",
      "\n"
     ]
    }
   ],
   "source": [
    "nombre = input (\"Hola, ingrese su nombre: \")\n",
    "numero = int (input(\"Ingrese un numero entero: \"))\n",
    "print((nombre + \"\\n\") * int(numero)) #error del uso del salto de linea"
   ]
  },
  {
   "cell_type": "code",
   "execution_count": 34,
   "id": "27b17ee7",
   "metadata": {},
   "outputs": [],
   "source": [
    "#Ejercicio 2\n",
    "#Escribir un programa que pregunte al usuario su edad y muestre por pantalla si es mayor de edad o no."
   ]
  },
  {
   "cell_type": "code",
   "execution_count": 45,
   "id": "8db9e012",
   "metadata": {},
   "outputs": [
    {
     "name": "stdout",
     "output_type": "stream",
     "text": [
      "ingrese su edad: 30\n",
      "es mayor de edad\n"
     ]
    }
   ],
   "source": [
    "edad = int (input(\"ingrese su edad: \"))      #error solucionado: posición de int (input())\n",
    "if edad >= 18:\n",
    "    print (\"es mayor de edad\")\n",
    "else:\n",
    "    print (\"no es mayor de edad\")"
   ]
  },
  {
   "cell_type": "code",
   "execution_count": 44,
   "id": "2e8abc0e",
   "metadata": {},
   "outputs": [],
   "source": [
    "#Ejercicio 3\n",
    "#Escribir un programa que almacene la cadena de caracteres contraseña en una variable, \n",
    "#pregunte al usuario por la contraseña e imprima por pantalla si la contraseña introducida \n",
    "#por el usuario coincide con la guardada en la variable"
   ]
  },
  {
   "cell_type": "code",
   "execution_count": 76,
   "id": "8e382db3",
   "metadata": {},
   "outputs": [
    {
     "name": "stdout",
     "output_type": "stream",
     "text": [
      "Introduce la contraseña: 1234\n",
      "La contaseña coincide\n"
     ]
    }
   ],
   "source": [
    "contraseña = \"1234\"\n",
    "password = input(\"Introduce la contraseña: \")\n",
    "if contraseña == password:             #ver uso de lower\n",
    "    print(\"La contaseña coincide\")\n",
    "else:\n",
    "    print(\"La contraseña no coincide\")"
   ]
  },
  {
   "cell_type": "code",
   "execution_count": 77,
   "id": "067ac11e",
   "metadata": {},
   "outputs": [],
   "source": [
    "#Ejercicio 4\n",
    "#Escribir un programa que pida al usuario dos números y muestre por pantalla su división. \n",
    "#Si el divisor es cero el programa debe mostrar un error."
   ]
  },
  {
   "cell_type": "code",
   "execution_count": 80,
   "id": "9192c3a2",
   "metadata": {},
   "outputs": [
    {
     "ename": "SyntaxError",
     "evalue": "invalid syntax (<ipython-input-80-a8b695923ff5>, line 3)",
     "output_type": "error",
     "traceback": [
      "\u001b[1;36m  File \u001b[1;32m\"<ipython-input-80-a8b695923ff5>\"\u001b[1;36m, line \u001b[1;32m3\u001b[0m\n\u001b[1;33m    si m == 0:print(\"¡Error! No se puede dividir por 0.\")\u001b[0m\n\u001b[1;37m       ^\u001b[0m\n\u001b[1;31mSyntaxError\u001b[0m\u001b[1;31m:\u001b[0m invalid syntax\n"
     ]
    }
   ],
   "source": [
    "n = float(input(\"Introduce el dividendo: \"))       #NO LO ENTENDI \n",
    "m = float(input(\"Introduce el divisior: \"))\n",
    "si m == 0:print(\"¡Error! No se puede dividir por 0.\")\n",
    "más:imprimir(n/m)"
   ]
  },
  {
   "cell_type": "code",
   "execution_count": null,
   "id": "98f4806c",
   "metadata": {},
   "outputs": [],
   "source": [
    "#Ejercicio 5: Escribir un programa que pida al usuario un número entero y muestre por pantalla si es par o impar.\n",
    "num = input(\"Introduce un número: \")\n",
    "num = int(num)                     \n",
    "if num == 0:\n",
    "    print (\"Este número es par.\")           #USO DE ELIF \n",
    "elif num%2 == 0:\n",
    "    print (\"Este numero es par\")\n",
    "else:\n",
    "    print (\"Este numero es impar\")\n",
    "\n"
   ]
  },
  {
   "cell_type": "code",
   "execution_count": 2,
   "id": "630a0c9e",
   "metadata": {},
   "outputs": [],
   "source": [
    "#Ejercicio 6\n",
    "#Escribir un programa que pregunte al usuario su edad y muestre por pantalla todos los años que ha cumplido \n",
    "#(desde 1 hasta su edad)."
   ]
  },
  {
   "cell_type": "code",
   "execution_count": 17,
   "id": "f9fb5191",
   "metadata": {},
   "outputs": [
    {
     "name": "stdout",
     "output_type": "stream",
     "text": [
      "Ingrese su edad: 30\n",
      "1, 2, 3, 4, 5, 6, 7, 8, 9, 10, 11, 12, 13, 14, 15, 16, 17, 18, 19, 20, 21, 22, 23, 24, 25, 26, 27, 28, 29, "
     ]
    }
   ],
   "source": [
    "edad = int (input (\"Ingrese su edad: \"))       #USO DEL FOR I IN RANGE \n",
    "for i in range (1, edad, 1):\n",
    "    print (i, end = \", \")\n"
   ]
  },
  {
   "cell_type": "code",
   "execution_count": 9,
   "id": "21042603",
   "metadata": {},
   "outputs": [],
   "source": [
    "#Ejercicio 7\n",
    "#Escribir un programa que pida al usuario un número entero positivo y \n",
    "#muestre por pantalla todos los números impares desde 1 hasta ese número separados por comas."
   ]
  },
  {
   "cell_type": "code",
   "execution_count": 18,
   "id": "9f39ffe6",
   "metadata": {},
   "outputs": [
    {
     "name": "stdout",
     "output_type": "stream",
     "text": [
      "Introduce un número entero positivo: 55\n",
      "1, 3, 5, 7, 9, 11, 13, 15, 17, 19, 21, 23, 25, 27, 29, 31, 33, 35, 37, 39, 41, 43, 45, 47, 49, 51, 53, 55, "
     ]
    }
   ],
   "source": [
    "numeroPositivo = int(input(\"Introduce un número entero positivo: \"))\n",
    "for i in range(1, numeroPositivo+1, 2):                                \n",
    "    print(i, end=\", \")\n"
   ]
  },
  {
   "cell_type": "code",
   "execution_count": 19,
   "id": "3966e58b",
   "metadata": {},
   "outputs": [],
   "source": [
    "#Ejercicio 8\n",
    "#Escribir un programa que pida al usuario un número entero positivo y \n",
    "#muestre por pantalla la cuenta atrás desde ese número hasta cero separados por comas.\n"
   ]
  },
  {
   "cell_type": "code",
   "execution_count": 31,
   "id": "d5254fe5",
   "metadata": {},
   "outputs": [
    {
     "name": "stdout",
     "output_type": "stream",
     "text": [
      "Ingrese un número entero postivo: 10\n",
      "10, 9, 8, 7, 6, 5, 4, 3, 2, 1, 0, "
     ]
    }
   ],
   "source": [
    "num = int (input (\"Ingrese un número entero postivo: \"))\n",
    "for i in range (num, -1, -1):                        #RETROCESO: SE COLOCA LA POSICION DEL NUM (INGRESADO)\n",
    "    print (i, end =\", \")                             #-1, -1 Bucle hacia atrás: Porque cuenta hacia atrás y posición"
   ]
  },
  {
   "cell_type": "code",
   "execution_count": 33,
   "id": "f815d735",
   "metadata": {},
   "outputs": [],
   "source": [
    "#Ejercicio 9\n",
    "#Escribir un programa que muestre por pantalla la tabla de multiplicar del 1 al 10."
   ]
  },
  {
   "cell_type": "code",
   "execution_count": 39,
   "id": "40af32d8",
   "metadata": {},
   "outputs": [
    {
     "name": "stdout",
     "output_type": "stream",
     "text": [
      "1\n",
      "2\n",
      "3\n",
      "4\n",
      "5\n",
      "6\n",
      "7\n",
      "8\n",
      "9\n"
     ]
    }
   ],
   "source": [
    "for i in range (1, 10):\n",
    "    print (i)\n",
    "\n"
   ]
  },
  {
   "cell_type": "code",
   "execution_count": 40,
   "id": "5e29bf6f",
   "metadata": {},
   "outputs": [],
   "source": [
    "#Ejercicio 10\n",
    "#Escribir un programa que almacene la cadena de caracteres contraseña en una variable,\n",
    "#pregunte al usuario por la contraseña hasta que introduzca la contraseña correcta."
   ]
  },
  {
   "cell_type": "code",
   "execution_count": 2,
   "id": "ec6f1a57",
   "metadata": {},
   "outputs": [
    {
     "name": "stdout",
     "output_type": "stream",
     "text": [
      "ingrese su contraseña: 44\n",
      "ingrese su contraseña: contraseña\n",
      "contraseña correcta\n"
     ]
    }
   ],
   "source": [
    "key = \"contraseña\"     #CADENA DE CARACTERES  #CUANDO ALMACENAS UNA CONTRASEÑA, Y EL USUARIO TIENE QUE INGRESAR LA MISMA IMPUESTA O LE \n",
    "password =\"\"                       #SALE EL INPUT HASTA QUE INGRESA LA CONTRASEÑA ALMACENADA\n",
    "while password!= key:\n",
    "    password = input (\"ingrese su contraseña: \")       \n",
    "print (\"contraseña correcta\")\n",
    "\n"
   ]
  },
  {
   "cell_type": "markdown",
   "id": "97c2dd2d",
   "metadata": {},
   "source": [
    "# EJEMPLO DE LISTA VACIA E INGRESO DE DATOS "
   ]
  },
  {
   "cell_type": "code",
   "execution_count": 1,
   "id": "0cfee8cd",
   "metadata": {},
   "outputs": [
    {
     "name": "stdout",
     "output_type": "stream",
     "text": [
      "ingrese producto, finalice con un cero:papa \n",
      "ingrese producto, finalice con un cero:morrones \n",
      "ingrese producto, finalice con un cero:cebollas \n",
      "ingrese producto, finalice con un cero:0\n",
      "papa \n",
      "morrones \n",
      "cebollas \n",
      "0\n"
     ]
    }
   ],
   "source": [
    "ListaProducto = []        #Creo una lista Vacía\n",
    "producto = \"\"             #Variable sin nada\n",
    "while producto!= \"0\":               #MIENTRAS la variable producto sea DIFERENTE a CERO entonces hago \n",
    "    producto = input (\"ingrese producto, finalice con un cero:\") \n",
    "    ListaProducto.append(producto)       #Tomo lo ingresado y lo agrego a la lista .APPEND\n",
    "    \n",
    "for i in ListaProducto:       #LA I LA VOY A LOOPEAR (HACER CICLO) SOBRE LA LISTA DE PRODUCTO\n",
    "    print (i)             #IMPRIME LA LISTA \n"
   ]
  },
  {
   "cell_type": "code",
   "execution_count": null,
   "id": "d7ff088c",
   "metadata": {},
   "outputs": [],
   "source": []
  },
  {
   "cell_type": "code",
   "execution_count": null,
   "id": "bd4f9414",
   "metadata": {},
   "outputs": [],
   "source": []
  },
  {
   "cell_type": "code",
   "execution_count": null,
   "id": "8857d2a9",
   "metadata": {},
   "outputs": [],
   "source": []
  }
 ],
 "metadata": {
  "kernelspec": {
   "display_name": "Python 3",
   "language": "python",
   "name": "python3"
  },
  "language_info": {
   "codemirror_mode": {
    "name": "ipython",
    "version": 3
   },
   "file_extension": ".py",
   "mimetype": "text/x-python",
   "name": "python",
   "nbconvert_exporter": "python",
   "pygments_lexer": "ipython3",
   "version": "3.8.8"
  }
 },
 "nbformat": 4,
 "nbformat_minor": 5
}
