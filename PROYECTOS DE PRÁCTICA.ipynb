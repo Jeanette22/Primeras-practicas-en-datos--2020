{
 "cells": [
  {
   "cell_type": "markdown",
   "id": "decdccb4",
   "metadata": {},
   "source": [
    "# PROYECTOS DE PRÁCTICA:\n"
   ]
  },
  {
   "cell_type": "code",
   "execution_count": 4,
   "id": "92970bda",
   "metadata": {},
   "outputs": [],
   "source": [
    " #Concatenar cadena de caracteres:Hacer una cadena que diga \"aprende a programar con....\"\n",
    "    #ejemplo de concatenar con +"
   ]
  },
  {
   "cell_type": "code",
   "execution_count": 6,
   "id": "b9659175",
   "metadata": {},
   "outputs": [
    {
     "name": "stdout",
     "output_type": "stream",
     "text": [
      "aprende a programar con filetour\n"
     ]
    }
   ],
   "source": [
    "organizacion = \"filetour\"\n",
    "print (\"aprende a programar con \"+ organizacion)"
   ]
  },
  {
   "cell_type": "code",
   "execution_count": 1,
   "id": "3eed8da0",
   "metadata": {},
   "outputs": [],
   "source": [
    "#1ER PROYECTO: #MadLib: historia locas "
   ]
  },
  {
   "cell_type": "code",
   "execution_count": 4,
   "id": "8c894d71",
   "metadata": {},
   "outputs": [
    {
     "name": "stdout",
     "output_type": "stream",
     "text": [
      "Ingrese un adjetivo: lindo\n",
      "ingrese un verbo: solucionar\n",
      "Ingrese otro verbo contagiar\n",
      "ingrese un sustantivo plural: objetivos\n",
      "('Programar es tan lindo!', 'siempre me emociona porque me encanta solucionar problemas. Aprende a contagiar con Filetour y alcanza tus objetivos')\n"
     ]
    }
   ],
   "source": [
    "adj= input (\"Ingrese un adjetivo: \")\n",
    "verbo1= input (\"ingrese un verbo: \")\n",
    "verbo2= input (\"Ingrese otro verbo \")\n",
    "sustantivo_plural = input (\"ingrese un sustantivo plural: \")\n",
    "\n",
    "madlib= \"Programar es tan \" + adj + \"!\", \"siempre me emociona porque me encanta \"+verbo1+ \" problemas. Aprende a \" +verbo2+ \" con Filetour y alcanza tus \"+sustantivo_plural\n",
    "print (madlib)"
   ]
  },
  {
   "cell_type": "code",
   "execution_count": 26,
   "id": "f782bbc6",
   "metadata": {},
   "outputs": [],
   "source": [
    "#PROYECTO 2 : PIEDRA PAPEL Y TIJERA"
   ]
  },
  {
   "cell_type": "code",
   "execution_count": 6,
   "id": "0737ee04",
   "metadata": {},
   "outputs": [
    {
     "name": "stdout",
     "output_type": "stream",
     "text": [
      "escoge una opcion: 'pi' para piedra, 'pa' para papel,'ti'para tijera.\n",
      "PA\n",
      "Empate!\n"
     ]
    }
   ],
   "source": [
    "import random \n",
    "\n",
    "def jugar ():\n",
    "    usuario= input(\"escoge una opcion: 'pi' para piedra, 'pa' para papel,'ti'para tijera.\\n\").lower()\n",
    "    computadora =random.choice(['pi', 'pa', 'ti'])\n",
    "    \n",
    "    \n",
    "    if usuario == computadora:\n",
    "        return 'Empate!'\n",
    "    \n",
    "    if gano_el_jugador (usuario, computadora):\n",
    "        return \"Ganaste!\"\n",
    "    \n",
    "    return 'perdiste!'\n",
    "\n",
    "def gano_el_jugador (jugador, oponente):\n",
    "    if ((jugador == 'pi' and oponente  == 'ti')\n",
    "        or (jugador == 'ti' and oponente  == 'pa')\n",
    "        or (jugador == 'pa' and oponente  == 'pi')):\n",
    "        return True \n",
    "    else:\n",
    "        return False \n",
    "print (jugar())\n",
    "    \n",
    "    "
   ]
  },
  {
   "cell_type": "code",
   "execution_count": 25,
   "id": "6add6b4c",
   "metadata": {},
   "outputs": [],
   "source": [
    "#3TO PROYECTO: busqueda binaria "
   ]
  },
  {
   "cell_type": "code",
   "execution_count": 67,
   "id": "7543ccd8",
   "metadata": {},
   "outputs": [],
   "source": [
    "import random \n",
    "import time\n",
    "\n",
    "def búsqueda_ingenua(lista, objetivo):\n",
    "    for i in range(len(lista)):\n",
    "        if lista[i] == objetivo:\n",
    "            return i\n",
    "    return -1\n",
    "\n",
    "\n",
    "def búsqueda_binaria(lista, objetivo, límite_inferior=None, límite_superior=None):\n",
    "    if limite_inferior is None:\n",
    "        limite_inferior = 0\n",
    "    if limite_superior is None:\n",
    "        limte_superior= len (lista) -1\n",
    "    \n",
    "    if limite_superior < limite_inferior:\n",
    "        return -1\n",
    "    \n",
    "    punto_medio = (limite_inferior + limite_superior) // 2 \n",
    "    if lista [punto_medio] == objetivo: \n",
    "        return punto_medio \n",
    "    elif objetivo < lista [punto_medio]:\n",
    "        return busqueda_binaria (lista, objetivo, limite_inferior, punto_medio-1)\n",
    "    else:\n",
    "        return busqueda_binaria (lista, objetivo, punto_medio+1, limite_superior)\n",
    "\n",
    "if __name__=='_main_': \n",
    "    \n",
    "    tamaño= 200000\n",
    "    conjunto_inicial = set()\n",
    "    \n",
    "    while len (conjunto_inicial) < tamaño: \n",
    "        conjunto_inicial.add(random.randit(-3 * tamaño, 3* tamaño))\n",
    "\n",
    "    lista_ordenada = sorted (list (conjunto_inicial))\n",
    "    \n",
    "    inicio = time.time()\n",
    "    for objetivo in lista_ordenada:\n",
    "        busqueda_ingenua (lista_ordenada, objetivo)\n",
    "    fin = time.time()\n",
    "    print (f\"tiempo de busqueda ingenua: {fin - inicio} segundos.\")\n",
    "    \n",
    "    \n",
    "    inicio = time.time ()\n",
    "    for ojetivo in lista_ordenada:\n",
    "        busqueda_binaria (lista_ordenada, objetivo)\n",
    "    fin = time.time()\n",
    "    print (f\"tiempo de busqueda binaria: {fin - inicio} segundos.\" )\n",
    "    \n",
    "\n",
    "    \n",
    "        \n"
   ]
  },
  {
   "cell_type": "code",
   "execution_count": null,
   "id": "877a889c",
   "metadata": {},
   "outputs": [],
   "source": []
  }
 ],
 "metadata": {
  "kernelspec": {
   "display_name": "Python 3",
   "language": "python",
   "name": "python3"
  },
  "language_info": {
   "codemirror_mode": {
    "name": "ipython",
    "version": 3
   },
   "file_extension": ".py",
   "mimetype": "text/x-python",
   "name": "python",
   "nbconvert_exporter": "python",
   "pygments_lexer": "ipython3",
   "version": "3.8.8"
  }
 },
 "nbformat": 4,
 "nbformat_minor": 5
}
